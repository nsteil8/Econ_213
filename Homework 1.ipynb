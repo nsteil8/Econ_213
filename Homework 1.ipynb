{
 "cells": [
  {
   "cell_type": "markdown",
   "metadata": {},
   "source": [
    "# Soccer Data"
   ]
  },
  {
   "cell_type": "code",
   "execution_count": 1,
   "metadata": {},
   "outputs": [],
   "source": [
    "#Going to import all of the libraries that will be needed to get, manipulate, and plot the data\n",
    "import pandas as pd\n",
    "import numpy as np\n",
    "import seaborn as sns\n",
    "import matplotlib.pyplot as plt\n",
    "%matplotlib inline\n",
    "import sqlite3"
   ]
  },
  {
   "cell_type": "markdown",
   "metadata": {},
   "source": [
    "This function will take as its input a dataframe and will be used to find which columns have any missing values"
   ]
  },
  {
   "cell_type": "code",
   "execution_count": 2,
   "metadata": {},
   "outputs": [],
   "source": [
    "def Find_Missing_Values(dataframe):\n",
    "    return dataframe.columns[dataframe.isnull().any()]"
   ]
  },
  {
   "cell_type": "markdown",
   "metadata": {},
   "source": [
    "This function will take as its input a dataframe and will perform a function to describe the type of data for\n",
    "column, whether the data are numeric or strings."
   ]
  },
  {
   "cell_type": "code",
   "execution_count": 3,
   "metadata": {},
   "outputs": [],
   "source": [
    "def Info_Dataframe(dataframe):\n",
    "    return dataframe.info()"
   ]
  },
  {
   "cell_type": "markdown",
   "metadata": {},
   "source": [
    "This function will take as its input a dataframe and output the distribution of the columns with numeric data.\n",
    "This will be helpful to see if their are any outliers in the data."
   ]
  },
  {
   "cell_type": "code",
   "execution_count": 4,
   "metadata": {},
   "outputs": [],
   "source": [
    "def Describe_Data(dataframe):\n",
    "    return dataframe.describe()"
   ]
  },
  {
   "cell_type": "markdown",
   "metadata": {},
   "source": [
    "Function has as its inputs a dataframe and a number. The output will display the dataframe with the number\n",
    "the corresponding to the number of rows. Will be used to give us an idea of what the data looks."
   ]
  },
  {
   "cell_type": "code",
   "execution_count": 5,
   "metadata": {},
   "outputs": [],
   "source": [
    "def Check_Data(dataframe, number):\n",
    "    return dataframe.head(number)"
   ]
  },
  {
   "cell_type": "markdown",
   "metadata": {},
   "source": [
    "This function will be used whenever I want to plot a boxplot. Will be helpful to see outliers."
   ]
  },
  {
   "cell_type": "code",
   "execution_count": 6,
   "metadata": {},
   "outputs": [],
   "source": [
    "def Plot_Boxplot(dataframe):\n",
    "    return dataframe.plot(kind = \"box\")"
   ]
  },
  {
   "cell_type": "markdown",
   "metadata": {},
   "source": [
    "This function takes in a dataframe, a column, a name, and a list of columns. It will output the values for the columns\n",
    "in the list where the row observation from the column input is the same as the name"
   ]
  },
  {
   "cell_type": "code",
   "execution_count": 7,
   "metadata": {},
   "outputs": [],
   "source": [
    "def Show_Row(dataframe, column, name, list_columns):\n",
    "    return dataframe.loc[column == name, list_columns]"
   ]
  },
  {
   "cell_type": "markdown",
   "metadata": {},
   "source": [
    "My first dataset that I will be looking at will be a dataset about FIFA rankings of international soccer teams from 1993 to 2018. The table will be in a format where it will go month by month and for each month rank in desceding order the highest rank country to the lowest rank country. It will also include other columns such as rank change, total points, and which soccer federation the country is a part of. "
   ]
  },
  {
   "cell_type": "code",
   "execution_count": 8,
   "metadata": {},
   "outputs": [],
   "source": [
    "rankings = pd.read_csv(\"/Users/nicksteil/Desktop/fifa_ranking.csv\") #reading in a csv file"
   ]
  },
  {
   "cell_type": "code",
   "execution_count": 9,
   "metadata": {
    "scrolled": true
   },
   "outputs": [
    {
     "data": {
      "text/html": [
       "<div>\n",
       "<style scoped>\n",
       "    .dataframe tbody tr th:only-of-type {\n",
       "        vertical-align: middle;\n",
       "    }\n",
       "\n",
       "    .dataframe tbody tr th {\n",
       "        vertical-align: top;\n",
       "    }\n",
       "\n",
       "    .dataframe thead th {\n",
       "        text-align: right;\n",
       "    }\n",
       "</style>\n",
       "<table border=\"1\" class=\"dataframe\">\n",
       "  <thead>\n",
       "    <tr style=\"text-align: right;\">\n",
       "      <th></th>\n",
       "      <th>rank</th>\n",
       "      <th>country_full</th>\n",
       "      <th>country_abrv</th>\n",
       "      <th>total_points</th>\n",
       "      <th>previous_points</th>\n",
       "      <th>rank_change</th>\n",
       "      <th>cur_year_avg</th>\n",
       "      <th>cur_year_avg_weighted</th>\n",
       "      <th>last_year_avg</th>\n",
       "      <th>last_year_avg_weighted</th>\n",
       "      <th>two_year_ago_avg</th>\n",
       "      <th>two_year_ago_weighted</th>\n",
       "      <th>three_year_ago_avg</th>\n",
       "      <th>three_year_ago_weighted</th>\n",
       "      <th>confederation</th>\n",
       "      <th>rank_date</th>\n",
       "    </tr>\n",
       "  </thead>\n",
       "  <tbody>\n",
       "    <tr>\n",
       "      <th>0</th>\n",
       "      <td>1</td>\n",
       "      <td>Germany</td>\n",
       "      <td>GER</td>\n",
       "      <td>0.0</td>\n",
       "      <td>57</td>\n",
       "      <td>0</td>\n",
       "      <td>0.0</td>\n",
       "      <td>0.0</td>\n",
       "      <td>0.0</td>\n",
       "      <td>0.0</td>\n",
       "      <td>0.0</td>\n",
       "      <td>0.0</td>\n",
       "      <td>0.0</td>\n",
       "      <td>0.0</td>\n",
       "      <td>UEFA</td>\n",
       "      <td>1993-08-08</td>\n",
       "    </tr>\n",
       "    <tr>\n",
       "      <th>1</th>\n",
       "      <td>2</td>\n",
       "      <td>Italy</td>\n",
       "      <td>ITA</td>\n",
       "      <td>0.0</td>\n",
       "      <td>57</td>\n",
       "      <td>0</td>\n",
       "      <td>0.0</td>\n",
       "      <td>0.0</td>\n",
       "      <td>0.0</td>\n",
       "      <td>0.0</td>\n",
       "      <td>0.0</td>\n",
       "      <td>0.0</td>\n",
       "      <td>0.0</td>\n",
       "      <td>0.0</td>\n",
       "      <td>UEFA</td>\n",
       "      <td>1993-08-08</td>\n",
       "    </tr>\n",
       "    <tr>\n",
       "      <th>2</th>\n",
       "      <td>3</td>\n",
       "      <td>Switzerland</td>\n",
       "      <td>SUI</td>\n",
       "      <td>0.0</td>\n",
       "      <td>50</td>\n",
       "      <td>9</td>\n",
       "      <td>0.0</td>\n",
       "      <td>0.0</td>\n",
       "      <td>0.0</td>\n",
       "      <td>0.0</td>\n",
       "      <td>0.0</td>\n",
       "      <td>0.0</td>\n",
       "      <td>0.0</td>\n",
       "      <td>0.0</td>\n",
       "      <td>UEFA</td>\n",
       "      <td>1993-08-08</td>\n",
       "    </tr>\n",
       "    <tr>\n",
       "      <th>3</th>\n",
       "      <td>4</td>\n",
       "      <td>Sweden</td>\n",
       "      <td>SWE</td>\n",
       "      <td>0.0</td>\n",
       "      <td>55</td>\n",
       "      <td>0</td>\n",
       "      <td>0.0</td>\n",
       "      <td>0.0</td>\n",
       "      <td>0.0</td>\n",
       "      <td>0.0</td>\n",
       "      <td>0.0</td>\n",
       "      <td>0.0</td>\n",
       "      <td>0.0</td>\n",
       "      <td>0.0</td>\n",
       "      <td>UEFA</td>\n",
       "      <td>1993-08-08</td>\n",
       "    </tr>\n",
       "    <tr>\n",
       "      <th>4</th>\n",
       "      <td>5</td>\n",
       "      <td>Argentina</td>\n",
       "      <td>ARG</td>\n",
       "      <td>0.0</td>\n",
       "      <td>51</td>\n",
       "      <td>5</td>\n",
       "      <td>0.0</td>\n",
       "      <td>0.0</td>\n",
       "      <td>0.0</td>\n",
       "      <td>0.0</td>\n",
       "      <td>0.0</td>\n",
       "      <td>0.0</td>\n",
       "      <td>0.0</td>\n",
       "      <td>0.0</td>\n",
       "      <td>CONMEBOL</td>\n",
       "      <td>1993-08-08</td>\n",
       "    </tr>\n",
       "    <tr>\n",
       "      <th>5</th>\n",
       "      <td>6</td>\n",
       "      <td>Republic of Ireland</td>\n",
       "      <td>IRL</td>\n",
       "      <td>0.0</td>\n",
       "      <td>54</td>\n",
       "      <td>0</td>\n",
       "      <td>0.0</td>\n",
       "      <td>0.0</td>\n",
       "      <td>0.0</td>\n",
       "      <td>0.0</td>\n",
       "      <td>0.0</td>\n",
       "      <td>0.0</td>\n",
       "      <td>0.0</td>\n",
       "      <td>0.0</td>\n",
       "      <td>UEFA</td>\n",
       "      <td>1993-08-08</td>\n",
       "    </tr>\n",
       "    <tr>\n",
       "      <th>6</th>\n",
       "      <td>7</td>\n",
       "      <td>Russia</td>\n",
       "      <td>RUS</td>\n",
       "      <td>0.0</td>\n",
       "      <td>52</td>\n",
       "      <td>1</td>\n",
       "      <td>0.0</td>\n",
       "      <td>0.0</td>\n",
       "      <td>0.0</td>\n",
       "      <td>0.0</td>\n",
       "      <td>0.0</td>\n",
       "      <td>0.0</td>\n",
       "      <td>0.0</td>\n",
       "      <td>0.0</td>\n",
       "      <td>UEFA</td>\n",
       "      <td>1993-08-08</td>\n",
       "    </tr>\n",
       "    <tr>\n",
       "      <th>7</th>\n",
       "      <td>8</td>\n",
       "      <td>Brazil</td>\n",
       "      <td>BRA</td>\n",
       "      <td>0.0</td>\n",
       "      <td>55</td>\n",
       "      <td>-5</td>\n",
       "      <td>0.0</td>\n",
       "      <td>0.0</td>\n",
       "      <td>0.0</td>\n",
       "      <td>0.0</td>\n",
       "      <td>0.0</td>\n",
       "      <td>0.0</td>\n",
       "      <td>0.0</td>\n",
       "      <td>0.0</td>\n",
       "      <td>CONMEBOL</td>\n",
       "      <td>1993-08-08</td>\n",
       "    </tr>\n",
       "    <tr>\n",
       "      <th>8</th>\n",
       "      <td>9</td>\n",
       "      <td>Norway</td>\n",
       "      <td>NOR</td>\n",
       "      <td>0.0</td>\n",
       "      <td>49</td>\n",
       "      <td>5</td>\n",
       "      <td>0.0</td>\n",
       "      <td>0.0</td>\n",
       "      <td>0.0</td>\n",
       "      <td>0.0</td>\n",
       "      <td>0.0</td>\n",
       "      <td>0.0</td>\n",
       "      <td>0.0</td>\n",
       "      <td>0.0</td>\n",
       "      <td>UEFA</td>\n",
       "      <td>1993-08-08</td>\n",
       "    </tr>\n",
       "    <tr>\n",
       "      <th>9</th>\n",
       "      <td>10</td>\n",
       "      <td>Denmark</td>\n",
       "      <td>DEN</td>\n",
       "      <td>0.0</td>\n",
       "      <td>51</td>\n",
       "      <td>-1</td>\n",
       "      <td>0.0</td>\n",
       "      <td>0.0</td>\n",
       "      <td>0.0</td>\n",
       "      <td>0.0</td>\n",
       "      <td>0.0</td>\n",
       "      <td>0.0</td>\n",
       "      <td>0.0</td>\n",
       "      <td>0.0</td>\n",
       "      <td>UEFA</td>\n",
       "      <td>1993-08-08</td>\n",
       "    </tr>\n",
       "  </tbody>\n",
       "</table>\n",
       "</div>"
      ],
      "text/plain": [
       "   rank         country_full country_abrv  total_points  previous_points  \\\n",
       "0     1              Germany          GER           0.0               57   \n",
       "1     2                Italy          ITA           0.0               57   \n",
       "2     3          Switzerland          SUI           0.0               50   \n",
       "3     4               Sweden          SWE           0.0               55   \n",
       "4     5            Argentina          ARG           0.0               51   \n",
       "5     6  Republic of Ireland          IRL           0.0               54   \n",
       "6     7               Russia          RUS           0.0               52   \n",
       "7     8               Brazil          BRA           0.0               55   \n",
       "8     9               Norway          NOR           0.0               49   \n",
       "9    10              Denmark          DEN           0.0               51   \n",
       "\n",
       "   rank_change  cur_year_avg  cur_year_avg_weighted  last_year_avg  \\\n",
       "0            0           0.0                    0.0            0.0   \n",
       "1            0           0.0                    0.0            0.0   \n",
       "2            9           0.0                    0.0            0.0   \n",
       "3            0           0.0                    0.0            0.0   \n",
       "4            5           0.0                    0.0            0.0   \n",
       "5            0           0.0                    0.0            0.0   \n",
       "6            1           0.0                    0.0            0.0   \n",
       "7           -5           0.0                    0.0            0.0   \n",
       "8            5           0.0                    0.0            0.0   \n",
       "9           -1           0.0                    0.0            0.0   \n",
       "\n",
       "   last_year_avg_weighted  two_year_ago_avg  two_year_ago_weighted  \\\n",
       "0                     0.0               0.0                    0.0   \n",
       "1                     0.0               0.0                    0.0   \n",
       "2                     0.0               0.0                    0.0   \n",
       "3                     0.0               0.0                    0.0   \n",
       "4                     0.0               0.0                    0.0   \n",
       "5                     0.0               0.0                    0.0   \n",
       "6                     0.0               0.0                    0.0   \n",
       "7                     0.0               0.0                    0.0   \n",
       "8                     0.0               0.0                    0.0   \n",
       "9                     0.0               0.0                    0.0   \n",
       "\n",
       "   three_year_ago_avg  three_year_ago_weighted confederation   rank_date  \n",
       "0                 0.0                      0.0          UEFA  1993-08-08  \n",
       "1                 0.0                      0.0          UEFA  1993-08-08  \n",
       "2                 0.0                      0.0          UEFA  1993-08-08  \n",
       "3                 0.0                      0.0          UEFA  1993-08-08  \n",
       "4                 0.0                      0.0      CONMEBOL  1993-08-08  \n",
       "5                 0.0                      0.0          UEFA  1993-08-08  \n",
       "6                 0.0                      0.0          UEFA  1993-08-08  \n",
       "7                 0.0                      0.0      CONMEBOL  1993-08-08  \n",
       "8                 0.0                      0.0          UEFA  1993-08-08  \n",
       "9                 0.0                      0.0          UEFA  1993-08-08  "
      ]
     },
     "execution_count": 9,
     "metadata": {},
     "output_type": "execute_result"
    }
   ],
   "source": [
    "Check_Data(rankings,10)"
   ]
  },
  {
   "cell_type": "code",
   "execution_count": 10,
   "metadata": {},
   "outputs": [
    {
     "data": {
      "text/plain": [
       "Index([], dtype='object')"
      ]
     },
     "execution_count": 10,
     "metadata": {},
     "output_type": "execute_result"
    }
   ],
   "source": [
    "Find_Missing_Values(rankings) #None of the columns in the dataframe have any missing values"
   ]
  },
  {
   "cell_type": "code",
   "execution_count": 11,
   "metadata": {},
   "outputs": [
    {
     "name": "stdout",
     "output_type": "stream",
     "text": [
      "<class 'pandas.core.frame.DataFrame'>\n",
      "RangeIndex: 57793 entries, 0 to 57792\n",
      "Data columns (total 16 columns):\n",
      "rank                       57793 non-null int64\n",
      "country_full               57793 non-null object\n",
      "country_abrv               57793 non-null object\n",
      "total_points               57793 non-null float64\n",
      "previous_points            57793 non-null int64\n",
      "rank_change                57793 non-null int64\n",
      "cur_year_avg               57793 non-null float64\n",
      "cur_year_avg_weighted      57793 non-null float64\n",
      "last_year_avg              57793 non-null float64\n",
      "last_year_avg_weighted     57793 non-null float64\n",
      "two_year_ago_avg           57793 non-null float64\n",
      "two_year_ago_weighted      57793 non-null float64\n",
      "three_year_ago_avg         57793 non-null float64\n",
      "three_year_ago_weighted    57793 non-null float64\n",
      "confederation              57793 non-null object\n",
      "rank_date                  57793 non-null object\n",
      "dtypes: float64(9), int64(3), object(4)\n",
      "memory usage: 7.1+ MB\n"
     ]
    }
   ],
   "source": [
    "Info_Dataframe(rankings)\n",
    "#The dataframe is comprised of strings, floats, and ints"
   ]
  },
  {
   "cell_type": "code",
   "execution_count": 12,
   "metadata": {
    "scrolled": false
   },
   "outputs": [
    {
     "data": {
      "text/html": [
       "<div>\n",
       "<style scoped>\n",
       "    .dataframe tbody tr th:only-of-type {\n",
       "        vertical-align: middle;\n",
       "    }\n",
       "\n",
       "    .dataframe tbody tr th {\n",
       "        vertical-align: top;\n",
       "    }\n",
       "\n",
       "    .dataframe thead th {\n",
       "        text-align: right;\n",
       "    }\n",
       "</style>\n",
       "<table border=\"1\" class=\"dataframe\">\n",
       "  <thead>\n",
       "    <tr style=\"text-align: right;\">\n",
       "      <th></th>\n",
       "      <th>rank</th>\n",
       "      <th>total_points</th>\n",
       "      <th>previous_points</th>\n",
       "      <th>rank_change</th>\n",
       "      <th>cur_year_avg</th>\n",
       "      <th>cur_year_avg_weighted</th>\n",
       "      <th>last_year_avg</th>\n",
       "      <th>last_year_avg_weighted</th>\n",
       "      <th>two_year_ago_avg</th>\n",
       "      <th>two_year_ago_weighted</th>\n",
       "      <th>three_year_ago_avg</th>\n",
       "      <th>three_year_ago_weighted</th>\n",
       "    </tr>\n",
       "  </thead>\n",
       "  <tbody>\n",
       "    <tr>\n",
       "      <th>count</th>\n",
       "      <td>57793.000000</td>\n",
       "      <td>57793.000000</td>\n",
       "      <td>57793.000000</td>\n",
       "      <td>57793.000000</td>\n",
       "      <td>57793.000000</td>\n",
       "      <td>57793.000000</td>\n",
       "      <td>57793.000000</td>\n",
       "      <td>57793.000000</td>\n",
       "      <td>57793.000000</td>\n",
       "      <td>57793.000000</td>\n",
       "      <td>57793.000000</td>\n",
       "      <td>57793.000000</td>\n",
       "    </tr>\n",
       "    <tr>\n",
       "      <th>mean</th>\n",
       "      <td>101.628086</td>\n",
       "      <td>122.068637</td>\n",
       "      <td>332.302926</td>\n",
       "      <td>-0.009897</td>\n",
       "      <td>61.798602</td>\n",
       "      <td>61.798602</td>\n",
       "      <td>61.004602</td>\n",
       "      <td>30.502377</td>\n",
       "      <td>59.777462</td>\n",
       "      <td>17.933277</td>\n",
       "      <td>59.173916</td>\n",
       "      <td>11.834811</td>\n",
       "    </tr>\n",
       "    <tr>\n",
       "      <th>std</th>\n",
       "      <td>58.618424</td>\n",
       "      <td>260.426863</td>\n",
       "      <td>302.872948</td>\n",
       "      <td>5.804309</td>\n",
       "      <td>138.014883</td>\n",
       "      <td>138.014883</td>\n",
       "      <td>137.688204</td>\n",
       "      <td>68.844143</td>\n",
       "      <td>136.296079</td>\n",
       "      <td>40.888849</td>\n",
       "      <td>135.533343</td>\n",
       "      <td>27.106675</td>\n",
       "    </tr>\n",
       "    <tr>\n",
       "      <th>min</th>\n",
       "      <td>1.000000</td>\n",
       "      <td>0.000000</td>\n",
       "      <td>0.000000</td>\n",
       "      <td>-72.000000</td>\n",
       "      <td>0.000000</td>\n",
       "      <td>0.000000</td>\n",
       "      <td>0.000000</td>\n",
       "      <td>0.000000</td>\n",
       "      <td>0.000000</td>\n",
       "      <td>0.000000</td>\n",
       "      <td>0.000000</td>\n",
       "      <td>0.000000</td>\n",
       "    </tr>\n",
       "    <tr>\n",
       "      <th>25%</th>\n",
       "      <td>51.000000</td>\n",
       "      <td>0.000000</td>\n",
       "      <td>56.000000</td>\n",
       "      <td>-2.000000</td>\n",
       "      <td>0.000000</td>\n",
       "      <td>0.000000</td>\n",
       "      <td>0.000000</td>\n",
       "      <td>0.000000</td>\n",
       "      <td>0.000000</td>\n",
       "      <td>0.000000</td>\n",
       "      <td>0.000000</td>\n",
       "      <td>0.000000</td>\n",
       "    </tr>\n",
       "    <tr>\n",
       "      <th>50%</th>\n",
       "      <td>101.000000</td>\n",
       "      <td>0.000000</td>\n",
       "      <td>272.000000</td>\n",
       "      <td>0.000000</td>\n",
       "      <td>0.000000</td>\n",
       "      <td>0.000000</td>\n",
       "      <td>0.000000</td>\n",
       "      <td>0.000000</td>\n",
       "      <td>0.000000</td>\n",
       "      <td>0.000000</td>\n",
       "      <td>0.000000</td>\n",
       "      <td>0.000000</td>\n",
       "    </tr>\n",
       "    <tr>\n",
       "      <th>75%</th>\n",
       "      <td>152.000000</td>\n",
       "      <td>92.790000</td>\n",
       "      <td>525.000000</td>\n",
       "      <td>1.000000</td>\n",
       "      <td>32.250000</td>\n",
       "      <td>32.250000</td>\n",
       "      <td>26.660000</td>\n",
       "      <td>13.330000</td>\n",
       "      <td>21.500000</td>\n",
       "      <td>6.450000</td>\n",
       "      <td>21.250000</td>\n",
       "      <td>4.250000</td>\n",
       "    </tr>\n",
       "    <tr>\n",
       "      <th>max</th>\n",
       "      <td>209.000000</td>\n",
       "      <td>1775.030000</td>\n",
       "      <td>1920.000000</td>\n",
       "      <td>92.000000</td>\n",
       "      <td>1158.660000</td>\n",
       "      <td>1158.660000</td>\n",
       "      <td>1169.570000</td>\n",
       "      <td>584.790000</td>\n",
       "      <td>1159.710000</td>\n",
       "      <td>347.910000</td>\n",
       "      <td>1200.770000</td>\n",
       "      <td>240.150000</td>\n",
       "    </tr>\n",
       "  </tbody>\n",
       "</table>\n",
       "</div>"
      ],
      "text/plain": [
       "               rank  total_points  previous_points   rank_change  \\\n",
       "count  57793.000000  57793.000000     57793.000000  57793.000000   \n",
       "mean     101.628086    122.068637       332.302926     -0.009897   \n",
       "std       58.618424    260.426863       302.872948      5.804309   \n",
       "min        1.000000      0.000000         0.000000    -72.000000   \n",
       "25%       51.000000      0.000000        56.000000     -2.000000   \n",
       "50%      101.000000      0.000000       272.000000      0.000000   \n",
       "75%      152.000000     92.790000       525.000000      1.000000   \n",
       "max      209.000000   1775.030000      1920.000000     92.000000   \n",
       "\n",
       "       cur_year_avg  cur_year_avg_weighted  last_year_avg  \\\n",
       "count  57793.000000           57793.000000   57793.000000   \n",
       "mean      61.798602              61.798602      61.004602   \n",
       "std      138.014883             138.014883     137.688204   \n",
       "min        0.000000               0.000000       0.000000   \n",
       "25%        0.000000               0.000000       0.000000   \n",
       "50%        0.000000               0.000000       0.000000   \n",
       "75%       32.250000              32.250000      26.660000   \n",
       "max     1158.660000            1158.660000    1169.570000   \n",
       "\n",
       "       last_year_avg_weighted  two_year_ago_avg  two_year_ago_weighted  \\\n",
       "count            57793.000000      57793.000000           57793.000000   \n",
       "mean                30.502377         59.777462              17.933277   \n",
       "std                 68.844143        136.296079              40.888849   \n",
       "min                  0.000000          0.000000               0.000000   \n",
       "25%                  0.000000          0.000000               0.000000   \n",
       "50%                  0.000000          0.000000               0.000000   \n",
       "75%                 13.330000         21.500000               6.450000   \n",
       "max                584.790000       1159.710000             347.910000   \n",
       "\n",
       "       three_year_ago_avg  three_year_ago_weighted  \n",
       "count        57793.000000             57793.000000  \n",
       "mean            59.173916                11.834811  \n",
       "std            135.533343                27.106675  \n",
       "min              0.000000                 0.000000  \n",
       "25%              0.000000                 0.000000  \n",
       "50%              0.000000                 0.000000  \n",
       "75%             21.250000                 4.250000  \n",
       "max           1200.770000               240.150000  "
      ]
     },
     "execution_count": 12,
     "metadata": {},
     "output_type": "execute_result"
    }
   ],
   "source": [
    "Describe_Data(rankings)"
   ]
  },
  {
   "cell_type": "markdown",
   "metadata": {},
   "source": [
    "Just from looking at the distribution of the data for each column, each column appears to have outliers. I will now show plot some boxplots to get an idea of how many outliers there are."
   ]
  },
  {
   "cell_type": "code",
   "execution_count": 13,
   "metadata": {},
   "outputs": [
    {
     "data": {
      "text/plain": [
       "<matplotlib.axes._subplots.AxesSubplot at 0x1a11c3c2b0>"
      ]
     },
     "execution_count": 13,
     "metadata": {},
     "output_type": "execute_result"
    },
    {
     "data": {
      "image/png": "[encoded data removed]",
      "text/plain": [
       "<Figure size 432x288 with 1 Axes>"
      ]
     },
     "metadata": {},
     "output_type": "display_data"
    }
   ],
   "source": [
    "Plot_Boxplot(rankings['total_points'])"
   ]
  },
  {
   "cell_type": "code",
   "execution_count": 14,
   "metadata": {},
   "outputs": [
    {
     "data": {
      "text/plain": [
       "<matplotlib.axes._subplots.AxesSubplot at 0x10e108668>"
      ]
     },
     "execution_count": 14,
     "metadata": {},
     "output_type": "execute_result"
    },
    {
     "data": {
      "image/png": "[encoded data removed]",
      "text/plain": [
       "<Figure size 432x288 with 1 Axes>"
      ]
     },
     "metadata": {},
     "output_type": "display_data"
    }
   ],
   "source": [
    "Plot_Boxplot(rankings['cur_year_avg'])"
   ]
  },
  {
   "cell_type": "code",
   "execution_count": 15,
   "metadata": {},
   "outputs": [
    {
     "data": {
      "text/plain": [
       "<matplotlib.axes._subplots.AxesSubplot at 0x10a915860>"
      ]
     },
     "execution_count": 15,
     "metadata": {},
     "output_type": "execute_result"
    },
    {
     "data": {
      "image/png": "[encoded data removed]",
      "text/plain": [
       "<Figure size 432x288 with 1 Axes>"
      ]
     },
     "metadata": {},
     "output_type": "display_data"
    }
   ],
   "source": [
    "Plot_Boxplot(rankings['rank_change'])"
   ]
  },
  {
   "cell_type": "markdown",
   "metadata": {},
   "source": [
    "To get an idea of what the outliers may be, I am going to look up at what index that maximum value of a column is\n",
    "and then look up the observation that corresponds to the index."
   ]
  },
  {
   "cell_type": "code",
   "execution_count": 16,
   "metadata": {},
   "outputs": [
    {
     "data": {
      "text/plain": [
       "rank                                1\n",
       "country_full                  Germany\n",
       "country_abrv                      GER\n",
       "total_points                  1775.03\n",
       "previous_points                  1687\n",
       "rank_change                         0\n",
       "cur_year_avg                  1153.12\n",
       "cur_year_avg_weighted         1153.12\n",
       "last_year_avg                  559.35\n",
       "last_year_avg_weighted         279.68\n",
       "two_year_ago_avg               770.63\n",
       "two_year_ago_weighted          231.19\n",
       "three_year_ago_avg             555.23\n",
       "three_year_ago_weighted        111.05\n",
       "confederation                    UEFA\n",
       "rank_date                  2015-06-04\n",
       "Name: 50014, dtype: object"
      ]
     },
     "execution_count": 16,
     "metadata": {},
     "output_type": "execute_result"
    }
   ],
   "source": [
    "max_value = rankings['total_points'].idxmax() #idxmax() returns the index of the max value from column total_points\n",
    "rankings.iloc[max_value] #iloc[] looks up the observation when given an index number"
   ]
  },
  {
   "cell_type": "markdown",
   "metadata": {},
   "source": [
    "As we can see, the observation with the highest total points is Germany when they were ranked number one in the world in June 2015. This is also a year after they won the World Cup. This may explain why there total points are so high. It may be the total points are strongly correlated with a team's success shown through their rank. It doesn't make sense to completely neglect the outliers for total points. "
   ]
  },
  {
   "cell_type": "code",
   "execution_count": 17,
   "metadata": {},
   "outputs": [
    {
     "data": {
      "text/plain": [
       "rank                                1\n",
       "country_full                  Germany\n",
       "country_abrv                      GER\n",
       "total_points                  1765.05\n",
       "previous_points                  1736\n",
       "rank_change                         0\n",
       "cur_year_avg                  1158.66\n",
       "cur_year_avg_weighted         1158.66\n",
       "last_year_avg                  507.09\n",
       "last_year_avg_weighted         253.55\n",
       "two_year_ago_avg               804.67\n",
       "two_year_ago_weighted           241.4\n",
       "three_year_ago_avg             557.21\n",
       "three_year_ago_weighted        111.44\n",
       "confederation                    UEFA\n",
       "rank_date                  2014-09-18\n",
       "Name: 48129, dtype: object"
      ]
     },
     "execution_count": 17,
     "metadata": {},
     "output_type": "execute_result"
    }
   ],
   "source": [
    "max_value = rankings['cur_year_avg'].idxmax()\n",
    "rankings.iloc[max_value]"
   ]
  },
  {
   "cell_type": "markdown",
   "metadata": {},
   "source": [
    "Again Germany, ranked number one just after winning the World Cup, has the maximum current year average. It seems\n",
    "plausibly that again current year average would be higher when the team is more successful. It doesn't make sense to ignore these outliers either."
   ]
  },
  {
   "cell_type": "markdown",
   "metadata": {},
   "source": [
    "While I did not go through each column, it is safe to assume that the columns in our dataframe are positively correlated with team success. This would make sense since when you look at all the nations that participate in international soccer, a very small percentage are significantly better when compared to the rest of the world. These countries are outliers, but it doesn't make sense to simple ignore them since they are reflective of what we are trying to see in the data."
   ]
  },
  {
   "cell_type": "markdown",
   "metadata": {},
   "source": [
    "Specifically with this dataset, I want to track the performance of the United States Men's National Team by following their ranking throughout the years in this dataset. "
   ]
  },
  {
   "cell_type": "code",
   "execution_count": 18,
   "metadata": {},
   "outputs": [],
   "source": [
    "rankings_USA = rankings[rankings['country_full'] == \"USA\"].reset_index(drop=True)\n",
    "#Create a new dataset where we only get the observations for USA. Made sure to reset the index of new dataframe"
   ]
  },
  {
   "cell_type": "code",
   "execution_count": 19,
   "metadata": {
    "scrolled": true
   },
   "outputs": [
    {
     "data": {
      "text/html": [
       "<div>\n",
       "<style scoped>\n",
       "    .dataframe tbody tr th:only-of-type {\n",
       "        vertical-align: middle;\n",
       "    }\n",
       "\n",
       "    .dataframe tbody tr th {\n",
       "        vertical-align: top;\n",
       "    }\n",
       "\n",
       "    .dataframe thead th {\n",
       "        text-align: right;\n",
       "    }\n",
       "</style>\n",
       "<table border=\"1\" class=\"dataframe\">\n",
       "  <thead>\n",
       "    <tr style=\"text-align: right;\">\n",
       "      <th></th>\n",
       "      <th>rank</th>\n",
       "      <th>country_full</th>\n",
       "      <th>country_abrv</th>\n",
       "      <th>total_points</th>\n",
       "      <th>previous_points</th>\n",
       "      <th>rank_change</th>\n",
       "      <th>cur_year_avg</th>\n",
       "      <th>cur_year_avg_weighted</th>\n",
       "      <th>last_year_avg</th>\n",
       "      <th>last_year_avg_weighted</th>\n",
       "      <th>two_year_ago_avg</th>\n",
       "      <th>two_year_ago_weighted</th>\n",
       "      <th>three_year_ago_avg</th>\n",
       "      <th>three_year_ago_weighted</th>\n",
       "      <th>confederation</th>\n",
       "      <th>rank_date</th>\n",
       "    </tr>\n",
       "  </thead>\n",
       "  <tbody>\n",
       "    <tr>\n",
       "      <th>0</th>\n",
       "      <td>28</td>\n",
       "      <td>USA</td>\n",
       "      <td>USA</td>\n",
       "      <td>0.0</td>\n",
       "      <td>43</td>\n",
       "      <td>-4</td>\n",
       "      <td>0.0</td>\n",
       "      <td>0.0</td>\n",
       "      <td>0.0</td>\n",
       "      <td>0.0</td>\n",
       "      <td>0.0</td>\n",
       "      <td>0.0</td>\n",
       "      <td>0.0</td>\n",
       "      <td>0.0</td>\n",
       "      <td>CONCACAF</td>\n",
       "      <td>1993-08-08</td>\n",
       "    </tr>\n",
       "    <tr>\n",
       "      <th>1</th>\n",
       "      <td>26</td>\n",
       "      <td>USA</td>\n",
       "      <td>USA</td>\n",
       "      <td>0.0</td>\n",
       "      <td>44</td>\n",
       "      <td>2</td>\n",
       "      <td>0.0</td>\n",
       "      <td>0.0</td>\n",
       "      <td>0.0</td>\n",
       "      <td>0.0</td>\n",
       "      <td>0.0</td>\n",
       "      <td>0.0</td>\n",
       "      <td>0.0</td>\n",
       "      <td>0.0</td>\n",
       "      <td>CONCACAF</td>\n",
       "      <td>1993-09-23</td>\n",
       "    </tr>\n",
       "    <tr>\n",
       "      <th>2</th>\n",
       "      <td>26</td>\n",
       "      <td>USA</td>\n",
       "      <td>USA</td>\n",
       "      <td>0.0</td>\n",
       "      <td>45</td>\n",
       "      <td>0</td>\n",
       "      <td>0.0</td>\n",
       "      <td>0.0</td>\n",
       "      <td>0.0</td>\n",
       "      <td>0.0</td>\n",
       "      <td>0.0</td>\n",
       "      <td>0.0</td>\n",
       "      <td>0.0</td>\n",
       "      <td>0.0</td>\n",
       "      <td>CONCACAF</td>\n",
       "      <td>1993-10-22</td>\n",
       "    </tr>\n",
       "    <tr>\n",
       "      <th>3</th>\n",
       "      <td>27</td>\n",
       "      <td>USA</td>\n",
       "      <td>USA</td>\n",
       "      <td>0.0</td>\n",
       "      <td>44</td>\n",
       "      <td>-1</td>\n",
       "      <td>0.0</td>\n",
       "      <td>0.0</td>\n",
       "      <td>0.0</td>\n",
       "      <td>0.0</td>\n",
       "      <td>0.0</td>\n",
       "      <td>0.0</td>\n",
       "      <td>0.0</td>\n",
       "      <td>0.0</td>\n",
       "      <td>CONCACAF</td>\n",
       "      <td>1993-11-19</td>\n",
       "    </tr>\n",
       "    <tr>\n",
       "      <th>4</th>\n",
       "      <td>22</td>\n",
       "      <td>USA</td>\n",
       "      <td>USA</td>\n",
       "      <td>0.0</td>\n",
       "      <td>45</td>\n",
       "      <td>5</td>\n",
       "      <td>0.0</td>\n",
       "      <td>0.0</td>\n",
       "      <td>0.0</td>\n",
       "      <td>0.0</td>\n",
       "      <td>0.0</td>\n",
       "      <td>0.0</td>\n",
       "      <td>0.0</td>\n",
       "      <td>0.0</td>\n",
       "      <td>CONCACAF</td>\n",
       "      <td>1993-12-23</td>\n",
       "    </tr>\n",
       "    <tr>\n",
       "      <th>5</th>\n",
       "      <td>21</td>\n",
       "      <td>USA</td>\n",
       "      <td>USA</td>\n",
       "      <td>0.0</td>\n",
       "      <td>46</td>\n",
       "      <td>1</td>\n",
       "      <td>0.0</td>\n",
       "      <td>0.0</td>\n",
       "      <td>0.0</td>\n",
       "      <td>0.0</td>\n",
       "      <td>0.0</td>\n",
       "      <td>0.0</td>\n",
       "      <td>0.0</td>\n",
       "      <td>0.0</td>\n",
       "      <td>CONCACAF</td>\n",
       "      <td>1994-02-15</td>\n",
       "    </tr>\n",
       "    <tr>\n",
       "      <th>6</th>\n",
       "      <td>21</td>\n",
       "      <td>USA</td>\n",
       "      <td>USA</td>\n",
       "      <td>0.0</td>\n",
       "      <td>46</td>\n",
       "      <td>0</td>\n",
       "      <td>0.0</td>\n",
       "      <td>0.0</td>\n",
       "      <td>0.0</td>\n",
       "      <td>0.0</td>\n",
       "      <td>0.0</td>\n",
       "      <td>0.0</td>\n",
       "      <td>0.0</td>\n",
       "      <td>0.0</td>\n",
       "      <td>CONCACAF</td>\n",
       "      <td>1994-03-15</td>\n",
       "    </tr>\n",
       "    <tr>\n",
       "      <th>7</th>\n",
       "      <td>23</td>\n",
       "      <td>USA</td>\n",
       "      <td>USA</td>\n",
       "      <td>0.0</td>\n",
       "      <td>46</td>\n",
       "      <td>-2</td>\n",
       "      <td>0.0</td>\n",
       "      <td>0.0</td>\n",
       "      <td>0.0</td>\n",
       "      <td>0.0</td>\n",
       "      <td>0.0</td>\n",
       "      <td>0.0</td>\n",
       "      <td>0.0</td>\n",
       "      <td>0.0</td>\n",
       "      <td>CONCACAF</td>\n",
       "      <td>1994-04-19</td>\n",
       "    </tr>\n",
       "    <tr>\n",
       "      <th>8</th>\n",
       "      <td>23</td>\n",
       "      <td>USA</td>\n",
       "      <td>USA</td>\n",
       "      <td>0.0</td>\n",
       "      <td>46</td>\n",
       "      <td>0</td>\n",
       "      <td>0.0</td>\n",
       "      <td>0.0</td>\n",
       "      <td>0.0</td>\n",
       "      <td>0.0</td>\n",
       "      <td>0.0</td>\n",
       "      <td>0.0</td>\n",
       "      <td>0.0</td>\n",
       "      <td>0.0</td>\n",
       "      <td>CONCACAF</td>\n",
       "      <td>1994-05-17</td>\n",
       "    </tr>\n",
       "    <tr>\n",
       "      <th>9</th>\n",
       "      <td>23</td>\n",
       "      <td>USA</td>\n",
       "      <td>USA</td>\n",
       "      <td>0.0</td>\n",
       "      <td>46</td>\n",
       "      <td>0</td>\n",
       "      <td>0.0</td>\n",
       "      <td>0.0</td>\n",
       "      <td>0.0</td>\n",
       "      <td>0.0</td>\n",
       "      <td>0.0</td>\n",
       "      <td>0.0</td>\n",
       "      <td>0.0</td>\n",
       "      <td>0.0</td>\n",
       "      <td>CONCACAF</td>\n",
       "      <td>1994-06-14</td>\n",
       "    </tr>\n",
       "  </tbody>\n",
       "</table>\n",
       "</div>"
      ],
      "text/plain": [
       "   rank country_full country_abrv  total_points  previous_points  rank_change  \\\n",
       "0    28          USA          USA           0.0               43           -4   \n",
       "1    26          USA          USA           0.0               44            2   \n",
       "2    26          USA          USA           0.0               45            0   \n",
       "3    27          USA          USA           0.0               44           -1   \n",
       "4    22          USA          USA           0.0               45            5   \n",
       "5    21          USA          USA           0.0               46            1   \n",
       "6    21          USA          USA           0.0               46            0   \n",
       "7    23          USA          USA           0.0               46           -2   \n",
       "8    23          USA          USA           0.0               46            0   \n",
       "9    23          USA          USA           0.0               46            0   \n",
       "\n",
       "   cur_year_avg  cur_year_avg_weighted  last_year_avg  last_year_avg_weighted  \\\n",
       "0           0.0                    0.0            0.0                     0.0   \n",
       "1           0.0                    0.0            0.0                     0.0   \n",
       "2           0.0                    0.0            0.0                     0.0   \n",
       "3           0.0                    0.0            0.0                     0.0   \n",
       "4           0.0                    0.0            0.0                     0.0   \n",
       "5           0.0                    0.0            0.0                     0.0   \n",
       "6           0.0                    0.0            0.0                     0.0   \n",
       "7           0.0                    0.0            0.0                     0.0   \n",
       "8           0.0                    0.0            0.0                     0.0   \n",
       "9           0.0                    0.0            0.0                     0.0   \n",
       "\n",
       "   two_year_ago_avg  two_year_ago_weighted  three_year_ago_avg  \\\n",
       "0               0.0                    0.0                 0.0   \n",
       "1               0.0                    0.0                 0.0   \n",
       "2               0.0                    0.0                 0.0   \n",
       "3               0.0                    0.0                 0.0   \n",
       "4               0.0                    0.0                 0.0   \n",
       "5               0.0                    0.0                 0.0   \n",
       "6               0.0                    0.0                 0.0   \n",
       "7               0.0                    0.0                 0.0   \n",
       "8               0.0                    0.0                 0.0   \n",
       "9               0.0                    0.0                 0.0   \n",
       "\n",
       "   three_year_ago_weighted confederation   rank_date  \n",
       "0                      0.0      CONCACAF  1993-08-08  \n",
       "1                      0.0      CONCACAF  1993-09-23  \n",
       "2                      0.0      CONCACAF  1993-10-22  \n",
       "3                      0.0      CONCACAF  1993-11-19  \n",
       "4                      0.0      CONCACAF  1993-12-23  \n",
       "5                      0.0      CONCACAF  1994-02-15  \n",
       "6                      0.0      CONCACAF  1994-03-15  \n",
       "7                      0.0      CONCACAF  1994-04-19  \n",
       "8                      0.0      CONCACAF  1994-05-17  \n",
       "9                      0.0      CONCACAF  1994-06-14  "
      ]
     },
     "execution_count": 19,
     "metadata": {},
     "output_type": "execute_result"
    }
   ],
   "source": [
    "Check_Data(rankings_USA,10)"
   ]
  },
  {
   "cell_type": "code",
   "execution_count": 20,
   "metadata": {
    "scrolled": true
   },
   "outputs": [
    {
     "data": {
      "text/html": [
       "<div>\n",
       "<style scoped>\n",
       "    .dataframe tbody tr th:only-of-type {\n",
       "        vertical-align: middle;\n",
       "    }\n",
       "\n",
       "    .dataframe tbody tr th {\n",
       "        vertical-align: top;\n",
       "    }\n",
       "\n",
       "    .dataframe thead th {\n",
       "        text-align: right;\n",
       "    }\n",
       "</style>\n",
       "<table border=\"1\" class=\"dataframe\">\n",
       "  <thead>\n",
       "    <tr style=\"text-align: right;\">\n",
       "      <th></th>\n",
       "      <th>rank</th>\n",
       "      <th>total_points</th>\n",
       "      <th>previous_points</th>\n",
       "      <th>rank_change</th>\n",
       "      <th>cur_year_avg</th>\n",
       "      <th>cur_year_avg_weighted</th>\n",
       "      <th>last_year_avg</th>\n",
       "      <th>last_year_avg_weighted</th>\n",
       "      <th>two_year_ago_avg</th>\n",
       "      <th>two_year_ago_weighted</th>\n",
       "      <th>three_year_ago_avg</th>\n",
       "      <th>three_year_ago_weighted</th>\n",
       "    </tr>\n",
       "  </thead>\n",
       "  <tbody>\n",
       "    <tr>\n",
       "      <th>count</th>\n",
       "      <td>286.000000</td>\n",
       "      <td>286.000000</td>\n",
       "      <td>286.000000</td>\n",
       "      <td>286.000000</td>\n",
       "      <td>286.000000</td>\n",
       "      <td>286.000000</td>\n",
       "      <td>286.000000</td>\n",
       "      <td>286.000000</td>\n",
       "      <td>286.000000</td>\n",
       "      <td>286.000000</td>\n",
       "      <td>286.000000</td>\n",
       "      <td>286.000000</td>\n",
       "    </tr>\n",
       "    <tr>\n",
       "      <th>mean</th>\n",
       "      <td>20.433566</td>\n",
       "      <td>242.913846</td>\n",
       "      <td>647.433566</td>\n",
       "      <td>-0.003497</td>\n",
       "      <td>121.278217</td>\n",
       "      <td>121.278217</td>\n",
       "      <td>118.675699</td>\n",
       "      <td>59.337657</td>\n",
       "      <td>122.858671</td>\n",
       "      <td>36.857657</td>\n",
       "      <td>127.202797</td>\n",
       "      <td>25.440594</td>\n",
       "    </tr>\n",
       "    <tr>\n",
       "      <th>std</th>\n",
       "      <td>7.578418</td>\n",
       "      <td>383.610185</td>\n",
       "      <td>310.879343</td>\n",
       "      <td>3.290068</td>\n",
       "      <td>200.077414</td>\n",
       "      <td>200.077414</td>\n",
       "      <td>195.997248</td>\n",
       "      <td>97.998373</td>\n",
       "      <td>204.395383</td>\n",
       "      <td>61.318805</td>\n",
       "      <td>210.794140</td>\n",
       "      <td>42.158882</td>\n",
       "    </tr>\n",
       "    <tr>\n",
       "      <th>min</th>\n",
       "      <td>4.000000</td>\n",
       "      <td>0.000000</td>\n",
       "      <td>42.000000</td>\n",
       "      <td>-12.000000</td>\n",
       "      <td>0.000000</td>\n",
       "      <td>0.000000</td>\n",
       "      <td>0.000000</td>\n",
       "      <td>0.000000</td>\n",
       "      <td>0.000000</td>\n",
       "      <td>0.000000</td>\n",
       "      <td>0.000000</td>\n",
       "      <td>0.000000</td>\n",
       "    </tr>\n",
       "    <tr>\n",
       "      <th>25%</th>\n",
       "      <td>14.000000</td>\n",
       "      <td>0.000000</td>\n",
       "      <td>634.250000</td>\n",
       "      <td>-1.000000</td>\n",
       "      <td>0.000000</td>\n",
       "      <td>0.000000</td>\n",
       "      <td>0.000000</td>\n",
       "      <td>0.000000</td>\n",
       "      <td>0.000000</td>\n",
       "      <td>0.000000</td>\n",
       "      <td>0.000000</td>\n",
       "      <td>0.000000</td>\n",
       "    </tr>\n",
       "    <tr>\n",
       "      <th>50%</th>\n",
       "      <td>21.000000</td>\n",
       "      <td>0.000000</td>\n",
       "      <td>742.500000</td>\n",
       "      <td>0.000000</td>\n",
       "      <td>0.000000</td>\n",
       "      <td>0.000000</td>\n",
       "      <td>0.000000</td>\n",
       "      <td>0.000000</td>\n",
       "      <td>0.000000</td>\n",
       "      <td>0.000000</td>\n",
       "      <td>0.000000</td>\n",
       "      <td>0.000000</td>\n",
       "    </tr>\n",
       "    <tr>\n",
       "      <th>75%</th>\n",
       "      <td>27.000000</td>\n",
       "      <td>746.550000</td>\n",
       "      <td>847.000000</td>\n",
       "      <td>1.000000</td>\n",
       "      <td>306.295000</td>\n",
       "      <td>306.295000</td>\n",
       "      <td>308.202500</td>\n",
       "      <td>154.102500</td>\n",
       "      <td>306.767500</td>\n",
       "      <td>92.032500</td>\n",
       "      <td>308.670000</td>\n",
       "      <td>61.737500</td>\n",
       "    </tr>\n",
       "    <tr>\n",
       "      <th>max</th>\n",
       "      <td>36.000000</td>\n",
       "      <td>1043.700000</td>\n",
       "      <td>1044.000000</td>\n",
       "      <td>14.000000</td>\n",
       "      <td>695.820000</td>\n",
       "      <td>695.820000</td>\n",
       "      <td>695.820000</td>\n",
       "      <td>347.910000</td>\n",
       "      <td>695.820000</td>\n",
       "      <td>208.750000</td>\n",
       "      <td>695.820000</td>\n",
       "      <td>139.160000</td>\n",
       "    </tr>\n",
       "  </tbody>\n",
       "</table>\n",
       "</div>"
      ],
      "text/plain": [
       "             rank  total_points  previous_points  rank_change  cur_year_avg  \\\n",
       "count  286.000000    286.000000       286.000000   286.000000    286.000000   \n",
       "mean    20.433566    242.913846       647.433566    -0.003497    121.278217   \n",
       "std      7.578418    383.610185       310.879343     3.290068    200.077414   \n",
       "min      4.000000      0.000000        42.000000   -12.000000      0.000000   \n",
       "25%     14.000000      0.000000       634.250000    -1.000000      0.000000   \n",
       "50%     21.000000      0.000000       742.500000     0.000000      0.000000   \n",
       "75%     27.000000    746.550000       847.000000     1.000000    306.295000   \n",
       "max     36.000000   1043.700000      1044.000000    14.000000    695.820000   \n",
       "\n",
       "       cur_year_avg_weighted  last_year_avg  last_year_avg_weighted  \\\n",
       "count             286.000000     286.000000              286.000000   \n",
       "mean              121.278217     118.675699               59.337657   \n",
       "std               200.077414     195.997248               97.998373   \n",
       "min                 0.000000       0.000000                0.000000   \n",
       "25%                 0.000000       0.000000                0.000000   \n",
       "50%                 0.000000       0.000000                0.000000   \n",
       "75%               306.295000     308.202500              154.102500   \n",
       "max               695.820000     695.820000              347.910000   \n",
       "\n",
       "       two_year_ago_avg  two_year_ago_weighted  three_year_ago_avg  \\\n",
       "count        286.000000             286.000000          286.000000   \n",
       "mean         122.858671              36.857657          127.202797   \n",
       "std          204.395383              61.318805          210.794140   \n",
       "min            0.000000               0.000000            0.000000   \n",
       "25%            0.000000               0.000000            0.000000   \n",
       "50%            0.000000               0.000000            0.000000   \n",
       "75%          306.767500              92.032500          308.670000   \n",
       "max          695.820000             208.750000          695.820000   \n",
       "\n",
       "       three_year_ago_weighted  \n",
       "count               286.000000  \n",
       "mean                 25.440594  \n",
       "std                  42.158882  \n",
       "min                   0.000000  \n",
       "25%                   0.000000  \n",
       "50%                   0.000000  \n",
       "75%                  61.737500  \n",
       "max                 139.160000  "
      ]
     },
     "execution_count": 20,
     "metadata": {},
     "output_type": "execute_result"
    }
   ],
   "source": [
    "Describe_Data(rankings_USA)"
   ]
  },
  {
   "cell_type": "code",
   "execution_count": 21,
   "metadata": {},
   "outputs": [
    {
     "data": {
      "text/plain": [
       "<matplotlib.axes._subplots.AxesSubplot at 0x1a1e4ff7b8>"
      ]
     },
     "execution_count": 21,
     "metadata": {},
     "output_type": "execute_result"
    },
    {
     "data": {
      "image/png": "[encoded data removed]",
      "text/plain": [
       "<Figure size 432x288 with 1 Axes>"
      ]
     },
     "metadata": {},
     "output_type": "display_data"
    }
   ],
   "source": [
    "Plot_Boxplot(rankings_USA['rank_change'])"
   ]
  },
  {
   "cell_type": "code",
   "execution_count": 22,
   "metadata": {},
   "outputs": [
    {
     "data": {
      "text/plain": [
       "<matplotlib.axes._subplots.AxesSubplot at 0x1a1108ff98>"
      ]
     },
     "execution_count": 22,
     "metadata": {},
     "output_type": "execute_result"
    },
    {
     "data": {
      "image/png": "[encoded data removed]",
      "text/plain": [
       "<Figure size 432x288 with 1 Axes>"
      ]
     },
     "metadata": {},
     "output_type": "display_data"
    }
   ],
   "source": [
    "Plot_Boxplot(rankings_USA['total_points'])"
   ]
  },
  {
   "cell_type": "markdown",
   "metadata": {},
   "source": [
    "When looking at just the US data, the spread of the data for each column seem to have not as many outliers. And this is probably the case when looking at just one country. The data from one country may have some outliers, which is shown by the top boxplot above for the rank change data for the US. But when looking at, for example, total points, there appears to be no outliers. When looking at just the US, I do not want to neglect any of the outliers."
   ]
  },
  {
   "cell_type": "markdown",
   "metadata": {},
   "source": [
    "From looking at the rank column for the US, the lowest the US has been ranked is 4 and the highest they have been ranked is 36. I know want to see how many months the US has spent being ranked in the top 10 vs. being ranked higher than 30."
   ]
  },
  {
   "cell_type": "code",
   "execution_count": 23,
   "metadata": {},
   "outputs": [
    {
     "data": {
      "text/plain": [
       "33"
      ]
     },
     "execution_count": 23,
     "metadata": {},
     "output_type": "execute_result"
    }
   ],
   "source": [
    "rankings_USA.query(\"rank <= 10\")['rank_date'].count()\n",
    "#run a query to count the number of dates when the corresponding rank was below 10"
   ]
  },
  {
   "cell_type": "code",
   "execution_count": 24,
   "metadata": {},
   "outputs": [
    {
     "data": {
      "text/plain": [
       "35"
      ]
     },
     "execution_count": 24,
     "metadata": {},
     "output_type": "execute_result"
    }
   ],
   "source": [
    "rankings_USA.query(\"rank >= 30\")['rank_date'].count()\n",
    "#run a query to count the number of dates when the corresponding rank was above 30"
   ]
  },
  {
   "cell_type": "code",
   "execution_count": 25,
   "metadata": {},
   "outputs": [
    {
     "data": {
      "text/plain": [
       "<matplotlib.axes._subplots.AxesSubplot at 0x1a1e6ee0f0>"
      ]
     },
     "execution_count": 25,
     "metadata": {},
     "output_type": "execute_result"
    },
    {
     "data": {
      "image/png": "[encoded data removed]",
      "text/plain": [
       "<Figure size 432x288 with 1 Axes>"
      ]
     },
     "metadata": {},
     "output_type": "display_data"
    }
   ],
   "source": [
    "rankings_USA.plot(y ='rank', x = 'rank_date')"
   ]
  },
  {
   "cell_type": "markdown",
   "metadata": {},
   "source": [
    "This plot tracks the ranking of the US team over time starting from 1993 to 2018. This graph is too noisy. So what\n",
    "I am going to do is average the rankings across each year. This will take a lot of the noise from the data."
   ]
  },
  {
   "cell_type": "code",
   "execution_count": 26,
   "metadata": {},
   "outputs": [],
   "source": [
    "rankings_USA['year'] = pd.DatetimeIndex(rankings_USA['rank_date']).year\n",
    "#use DatetimeIndex to extract the year from each month of the dates in my data. I created a new column for year."
   ]
  },
  {
   "cell_type": "code",
   "execution_count": 27,
   "metadata": {},
   "outputs": [
    {
     "data": {
      "text/plain": [
       "<matplotlib.axes._subplots.AxesSubplot at 0x1a1e74d080>"
      ]
     },
     "execution_count": 27,
     "metadata": {},
     "output_type": "execute_result"
    },
    {
     "data": {
      "image/png": "[encoded data removed]",
      "text/plain": [
       "<Figure size 432x288 with 1 Axes>"
      ]
     },
     "metadata": {},
     "output_type": "display_data"
    }
   ],
   "source": [
    "averagerank = rankings_USA.groupby('year')['rank'].mean()\n",
    "averagerank.plot(y='rank', x='year')\n",
    "#I group by year then take the average of the rank for the US team"
   ]
  },
  {
   "cell_type": "markdown",
   "metadata": {},
   "source": [
    "This graph gives us a great picture at how the US has done it terms of its ranking throughout the years. It looks\n",
    "like during the mid 2000s was when we were at our best.If you look at where we are at right now, we are a little above\n",
    "our average ranking since 1993. "
   ]
  },
  {
   "cell_type": "markdown",
   "metadata": {},
   "source": [
    "# Fire Data"
   ]
  },
  {
   "cell_type": "markdown",
   "metadata": {},
   "source": [
    "The second dataset that I will be looking at deals with fire data. It is a large database that tracks information of wildfires throughout the US. Fires, the name of the dataset, contains many columns each fire recorded in the dataset, such as how large it was, its longitude and latitude coordintes, the county code where the fire was and many more. This is a SQL data file that is rather large. Instead of uploading all the information from Fires, I am going to use SQL commands to upload the columns I feel are the most interesting for all the fires in the database, such as the year, the size, and which state the fire was in."
   ]
  },
  {
   "cell_type": "code",
   "execution_count": 28,
   "metadata": {},
   "outputs": [],
   "source": [
    "conn = sqlite3.connect(\"/Users/nicksteil/Desktop/FPA_FOD_20170508.sqlite\")\n",
    "wildfires_df = pd.read_sql_query(\"select FIRE_Year, FIRE_SIZE, STATE from Fires;\" , conn)\n",
    "#This is the syntax to be used to read in a SQL file"
   ]
  },
  {
   "cell_type": "code",
   "execution_count": 29,
   "metadata": {},
   "outputs": [
    {
     "data": {
      "text/html": [
       "<div>\n",
       "<style scoped>\n",
       "    .dataframe tbody tr th:only-of-type {\n",
       "        vertical-align: middle;\n",
       "    }\n",
       "\n",
       "    .dataframe tbody tr th {\n",
       "        vertical-align: top;\n",
       "    }\n",
       "\n",
       "    .dataframe thead th {\n",
       "        text-align: right;\n",
       "    }\n",
       "</style>\n",
       "<table border=\"1\" class=\"dataframe\">\n",
       "  <thead>\n",
       "    <tr style=\"text-align: right;\">\n",
       "      <th></th>\n",
       "      <th>FIRE_YEAR</th>\n",
       "      <th>FIRE_SIZE</th>\n",
       "      <th>STATE</th>\n",
       "    </tr>\n",
       "  </thead>\n",
       "  <tbody>\n",
       "    <tr>\n",
       "      <th>0</th>\n",
       "      <td>2005</td>\n",
       "      <td>0.10</td>\n",
       "      <td>CA</td>\n",
       "    </tr>\n",
       "    <tr>\n",
       "      <th>1</th>\n",
       "      <td>2004</td>\n",
       "      <td>0.25</td>\n",
       "      <td>CA</td>\n",
       "    </tr>\n",
       "    <tr>\n",
       "      <th>2</th>\n",
       "      <td>2004</td>\n",
       "      <td>0.10</td>\n",
       "      <td>CA</td>\n",
       "    </tr>\n",
       "    <tr>\n",
       "      <th>3</th>\n",
       "      <td>2004</td>\n",
       "      <td>0.10</td>\n",
       "      <td>CA</td>\n",
       "    </tr>\n",
       "    <tr>\n",
       "      <th>4</th>\n",
       "      <td>2004</td>\n",
       "      <td>0.10</td>\n",
       "      <td>CA</td>\n",
       "    </tr>\n",
       "    <tr>\n",
       "      <th>5</th>\n",
       "      <td>2004</td>\n",
       "      <td>0.10</td>\n",
       "      <td>CA</td>\n",
       "    </tr>\n",
       "    <tr>\n",
       "      <th>6</th>\n",
       "      <td>2004</td>\n",
       "      <td>0.10</td>\n",
       "      <td>CA</td>\n",
       "    </tr>\n",
       "    <tr>\n",
       "      <th>7</th>\n",
       "      <td>2005</td>\n",
       "      <td>0.80</td>\n",
       "      <td>CA</td>\n",
       "    </tr>\n",
       "    <tr>\n",
       "      <th>8</th>\n",
       "      <td>2005</td>\n",
       "      <td>1.00</td>\n",
       "      <td>CA</td>\n",
       "    </tr>\n",
       "    <tr>\n",
       "      <th>9</th>\n",
       "      <td>2004</td>\n",
       "      <td>0.10</td>\n",
       "      <td>CA</td>\n",
       "    </tr>\n",
       "    <tr>\n",
       "      <th>10</th>\n",
       "      <td>2004</td>\n",
       "      <td>0.10</td>\n",
       "      <td>CA</td>\n",
       "    </tr>\n",
       "    <tr>\n",
       "      <th>11</th>\n",
       "      <td>2004</td>\n",
       "      <td>0.10</td>\n",
       "      <td>CA</td>\n",
       "    </tr>\n",
       "    <tr>\n",
       "      <th>12</th>\n",
       "      <td>2004</td>\n",
       "      <td>0.10</td>\n",
       "      <td>CA</td>\n",
       "    </tr>\n",
       "    <tr>\n",
       "      <th>13</th>\n",
       "      <td>2004</td>\n",
       "      <td>6.00</td>\n",
       "      <td>CA</td>\n",
       "    </tr>\n",
       "  </tbody>\n",
       "</table>\n",
       "</div>"
      ],
      "text/plain": [
       "    FIRE_YEAR  FIRE_SIZE STATE\n",
       "0        2005       0.10    CA\n",
       "1        2004       0.25    CA\n",
       "2        2004       0.10    CA\n",
       "3        2004       0.10    CA\n",
       "4        2004       0.10    CA\n",
       "5        2004       0.10    CA\n",
       "6        2004       0.10    CA\n",
       "7        2005       0.80    CA\n",
       "8        2005       1.00    CA\n",
       "9        2004       0.10    CA\n",
       "10       2004       0.10    CA\n",
       "11       2004       0.10    CA\n",
       "12       2004       0.10    CA\n",
       "13       2004       6.00    CA"
      ]
     },
     "execution_count": 29,
     "metadata": {},
     "output_type": "execute_result"
    }
   ],
   "source": [
    "Check_Data(wildfires_df,14)"
   ]
  },
  {
   "cell_type": "code",
   "execution_count": 30,
   "metadata": {},
   "outputs": [
    {
     "data": {
      "text/plain": [
       "Index([], dtype='object')"
      ]
     },
     "execution_count": 30,
     "metadata": {},
     "output_type": "execute_result"
    }
   ],
   "source": [
    "Find_Missing_Values(wildfires_df)"
   ]
  },
  {
   "cell_type": "markdown",
   "metadata": {},
   "source": [
    "This is a very clean dataset since none of the columns have any missing values."
   ]
  },
  {
   "cell_type": "code",
   "execution_count": 31,
   "metadata": {},
   "outputs": [
    {
     "name": "stdout",
     "output_type": "stream",
     "text": [
      "<class 'pandas.core.frame.DataFrame'>\n",
      "RangeIndex: 1880465 entries, 0 to 1880464\n",
      "Data columns (total 3 columns):\n",
      "FIRE_YEAR    int64\n",
      "FIRE_SIZE    float64\n",
      "STATE        object\n",
      "dtypes: float64(1), int64(1), object(1)\n",
      "memory usage: 43.0+ MB\n"
     ]
    }
   ],
   "source": [
    "Info_Dataframe(wildfires_df)"
   ]
  },
  {
   "cell_type": "markdown",
   "metadata": {},
   "source": [
    "I notice that the year is an integer. I am going to want to cast all the years as strings."
   ]
  },
  {
   "cell_type": "code",
   "execution_count": 32,
   "metadata": {},
   "outputs": [
    {
     "name": "stdout",
     "output_type": "stream",
     "text": [
      "<class 'pandas.core.frame.DataFrame'>\n",
      "RangeIndex: 1880465 entries, 0 to 1880464\n",
      "Data columns (total 3 columns):\n",
      "FIRE_YEAR    object\n",
      "FIRE_SIZE    float64\n",
      "STATE        object\n",
      "dtypes: float64(1), object(2)\n",
      "memory usage: 43.0+ MB\n"
     ]
    }
   ],
   "source": [
    "wildfires_df['FIRE_YEAR'] = wildfires_df['FIRE_YEAR'].astype('str') #use .astype function to convert to a string\n",
    "Info_Dataframe(wildfires_df)"
   ]
  },
  {
   "cell_type": "code",
   "execution_count": 33,
   "metadata": {},
   "outputs": [
    {
     "data": {
      "text/plain": [
       "array(['2005', '2004', '2006', '2008', '2002', '2007', '2009', '2001',\n",
       "       '2003', '1992', '1993', '1994', '1995', '1996', '1997', '1998',\n",
       "       '1999', '2000', '2010', '2011', '2012', '2013', '2014', '2015'],\n",
       "      dtype=object)"
      ]
     },
     "execution_count": 33,
     "metadata": {},
     "output_type": "execute_result"
    }
   ],
   "source": [
    "wildfires_df['FIRE_YEAR'].unique()"
   ]
  },
  {
   "cell_type": "markdown",
   "metadata": {},
   "source": [
    "The list above are all of the unique years in the dataset. The dataset includes all years from 1992 to 2015."
   ]
  },
  {
   "cell_type": "code",
   "execution_count": 34,
   "metadata": {},
   "outputs": [
    {
     "data": {
      "text/plain": [
       "array(['CA', 'NM', 'OR', 'NC', 'WY', 'CO', 'WA', 'MT', 'UT', 'AZ', 'SD',\n",
       "       'AR', 'NV', 'ID', 'MN', 'TX', 'FL', 'SC', 'LA', 'OK', 'KS', 'MO',\n",
       "       'NE', 'MI', 'KY', 'OH', 'IN', 'VA', 'IL', 'TN', 'GA', 'AK', 'ND',\n",
       "       'WV', 'WI', 'AL', 'NH', 'PA', 'MS', 'ME', 'VT', 'NY', 'IA', 'DC',\n",
       "       'MD', 'CT', 'MA', 'NJ', 'HI', 'DE', 'PR', 'RI'], dtype=object)"
      ]
     },
     "execution_count": 34,
     "metadata": {},
     "output_type": "execute_result"
    }
   ],
   "source": [
    "wildfires_df['STATE'].unique()"
   ]
  },
  {
   "cell_type": "markdown",
   "metadata": {},
   "source": [
    "All fifty states are included as well as DC in the dataset. There are no abbreviations that appear incorrect."
   ]
  },
  {
   "cell_type": "code",
   "execution_count": 35,
   "metadata": {},
   "outputs": [
    {
     "data": {
      "text/html": [
       "<div>\n",
       "<style scoped>\n",
       "    .dataframe tbody tr th:only-of-type {\n",
       "        vertical-align: middle;\n",
       "    }\n",
       "\n",
       "    .dataframe tbody tr th {\n",
       "        vertical-align: top;\n",
       "    }\n",
       "\n",
       "    .dataframe thead th {\n",
       "        text-align: right;\n",
       "    }\n",
       "</style>\n",
       "<table border=\"1\" class=\"dataframe\">\n",
       "  <thead>\n",
       "    <tr style=\"text-align: right;\">\n",
       "      <th></th>\n",
       "      <th>FIRE_SIZE</th>\n",
       "    </tr>\n",
       "  </thead>\n",
       "  <tbody>\n",
       "    <tr>\n",
       "      <th>count</th>\n",
       "      <td>1.880465e+06</td>\n",
       "    </tr>\n",
       "    <tr>\n",
       "      <th>mean</th>\n",
       "      <td>7.452016e+01</td>\n",
       "    </tr>\n",
       "    <tr>\n",
       "      <th>std</th>\n",
       "      <td>2.497598e+03</td>\n",
       "    </tr>\n",
       "    <tr>\n",
       "      <th>min</th>\n",
       "      <td>1.000000e-05</td>\n",
       "    </tr>\n",
       "    <tr>\n",
       "      <th>25%</th>\n",
       "      <td>1.000000e-01</td>\n",
       "    </tr>\n",
       "    <tr>\n",
       "      <th>50%</th>\n",
       "      <td>1.000000e+00</td>\n",
       "    </tr>\n",
       "    <tr>\n",
       "      <th>75%</th>\n",
       "      <td>3.300000e+00</td>\n",
       "    </tr>\n",
       "    <tr>\n",
       "      <th>max</th>\n",
       "      <td>6.069450e+05</td>\n",
       "    </tr>\n",
       "  </tbody>\n",
       "</table>\n",
       "</div>"
      ],
      "text/plain": [
       "          FIRE_SIZE\n",
       "count  1.880465e+06\n",
       "mean   7.452016e+01\n",
       "std    2.497598e+03\n",
       "min    1.000000e-05\n",
       "25%    1.000000e-01\n",
       "50%    1.000000e+00\n",
       "75%    3.300000e+00\n",
       "max    6.069450e+05"
      ]
     },
     "execution_count": 35,
     "metadata": {},
     "output_type": "execute_result"
    }
   ],
   "source": [
    "Describe_Data(wildfires_df)"
   ]
  },
  {
   "cell_type": "code",
   "execution_count": 36,
   "metadata": {},
   "outputs": [
    {
     "data": {
      "text/plain": [
       "<matplotlib.axes._subplots.AxesSubplot at 0x1a32cc02b0>"
      ]
     },
     "execution_count": 36,
     "metadata": {},
     "output_type": "execute_result"
    },
    {
     "data": {
      "image/png": "[encoded data removed]",
      "text/plain": [
       "<Figure size 432x288 with 1 Axes>"
      ]
     },
     "metadata": {},
     "output_type": "display_data"
    }
   ],
   "source": [
    "Plot_Boxplot(wildfires_df)"
   ]
  },
  {
   "cell_type": "markdown",
   "metadata": {},
   "source": [
    "Looking at the summary statistics of fire size and the boxplot, there are many outliers. But this is the case when we look at all the states together. Fires out west, like in California, are going to be much larger than fires on the East Coast. This is just like in the soccer example that when we look state by state, we would not see many outliers when we just take an individual state. Another thing that needs to be considered is that very small fires are taken into account. Thus the distribution is heavily skewed to the right, which is shown by our violin plot."
   ]
  },
  {
   "cell_type": "code",
   "execution_count": 37,
   "metadata": {},
   "outputs": [
    {
     "data": {
      "text/plain": [
       "<matplotlib.axes._subplots.AxesSubplot at 0x1a32d33dd8>"
      ]
     },
     "execution_count": 37,
     "metadata": {},
     "output_type": "execute_result"
    },
    {
     "data": {
      "image/png": "[encoded data removed]",
      "text/plain": [
       "<Figure size 432x288 with 1 Axes>"
      ]
     },
     "metadata": {},
     "output_type": "display_data"
    }
   ],
   "source": [
    "sns.violinplot(wildfires_df['FIRE_SIZE'])"
   ]
  },
  {
   "cell_type": "markdown",
   "metadata": {},
   "source": [
    "I want to check if this heavily skewed distribution appears only when I have one state. I am going to use California."
   ]
  },
  {
   "cell_type": "code",
   "execution_count": 38,
   "metadata": {},
   "outputs": [],
   "source": [
    "california = Show_Row(wildfires_df,wildfires_df['STATE'], 'CA', list(wildfires_df))"
   ]
  },
  {
   "cell_type": "code",
   "execution_count": 39,
   "metadata": {},
   "outputs": [
    {
     "data": {
      "text/html": [
       "<div>\n",
       "<style scoped>\n",
       "    .dataframe tbody tr th:only-of-type {\n",
       "        vertical-align: middle;\n",
       "    }\n",
       "\n",
       "    .dataframe tbody tr th {\n",
       "        vertical-align: top;\n",
       "    }\n",
       "\n",
       "    .dataframe thead th {\n",
       "        text-align: right;\n",
       "    }\n",
       "</style>\n",
       "<table border=\"1\" class=\"dataframe\">\n",
       "  <thead>\n",
       "    <tr style=\"text-align: right;\">\n",
       "      <th></th>\n",
       "      <th>FIRE_SIZE</th>\n",
       "    </tr>\n",
       "  </thead>\n",
       "  <tbody>\n",
       "    <tr>\n",
       "      <th>count</th>\n",
       "      <td>189550.000000</td>\n",
       "    </tr>\n",
       "    <tr>\n",
       "      <th>mean</th>\n",
       "      <td>67.242725</td>\n",
       "    </tr>\n",
       "    <tr>\n",
       "      <th>std</th>\n",
       "      <td>2029.960435</td>\n",
       "    </tr>\n",
       "    <tr>\n",
       "      <th>min</th>\n",
       "      <td>0.001000</td>\n",
       "    </tr>\n",
       "    <tr>\n",
       "      <th>25%</th>\n",
       "      <td>0.100000</td>\n",
       "    </tr>\n",
       "    <tr>\n",
       "      <th>50%</th>\n",
       "      <td>0.250000</td>\n",
       "    </tr>\n",
       "    <tr>\n",
       "      <th>75%</th>\n",
       "      <td>1.000000</td>\n",
       "    </tr>\n",
       "    <tr>\n",
       "      <th>max</th>\n",
       "      <td>315578.800000</td>\n",
       "    </tr>\n",
       "  </tbody>\n",
       "</table>\n",
       "</div>"
      ],
      "text/plain": [
       "           FIRE_SIZE\n",
       "count  189550.000000\n",
       "mean       67.242725\n",
       "std      2029.960435\n",
       "min         0.001000\n",
       "25%         0.100000\n",
       "50%         0.250000\n",
       "75%         1.000000\n",
       "max    315578.800000"
      ]
     },
     "execution_count": 39,
     "metadata": {},
     "output_type": "execute_result"
    }
   ],
   "source": [
    "Describe_Data(california)"
   ]
  },
  {
   "cell_type": "code",
   "execution_count": 40,
   "metadata": {},
   "outputs": [
    {
     "data": {
      "text/plain": [
       "<matplotlib.axes._subplots.AxesSubplot at 0x1a30acd400>"
      ]
     },
     "execution_count": 40,
     "metadata": {},
     "output_type": "execute_result"
    },
    {
     "data": {
      "image/png": "[encoded data removed]",
      "text/plain": [
       "<Figure size 432x288 with 1 Axes>"
      ]
     },
     "metadata": {},
     "output_type": "display_data"
    }
   ],
   "source": [
    "sns.boxplot(california.FIRE_SIZE)"
   ]
  },
  {
   "cell_type": "markdown",
   "metadata": {},
   "source": [
    "When just looking at data from california, it is still heavily skewed to the right"
   ]
  },
  {
   "cell_type": "code",
   "execution_count": 41,
   "metadata": {},
   "outputs": [
    {
     "data": {
      "text/plain": [
       "(0.0, 0.1]         82724\n",
       "(0.25, 1.0]        51678\n",
       "(1.0, 315578.8]    39563\n",
       "(0.1, 0.25]        15585\n",
       "Name: bins, dtype: int64"
      ]
     },
     "execution_count": 41,
     "metadata": {},
     "output_type": "execute_result"
    }
   ],
   "source": [
    "california['bins'] = pd.qcut(california['FIRE_SIZE'],4) #used .qcut to cut the fire sizes from california into \n",
    "california['bins'].value_counts()                       #quartiles"
   ]
  },
  {
   "cell_type": "markdown",
   "metadata": {},
   "source": [
    "What I did right here was I cut the distribution of fire size into four quartiles. They ranges of these quartiles are the column on the left. And then I counted how many oberservations fall into each quartile. About 20 percent of the fires in california in the dataset are greater than 1 (I am assuming the units are acres). Whether I only focus on just large fires depends on what kinds of questions I want to answer and if my population of interest are large fires in general. For my purposes I want to focus on large wildfires since they pose a my bigger threat to society."
   ]
  },
  {
   "cell_type": "code",
   "execution_count": 42,
   "metadata": {},
   "outputs": [],
   "source": [
    "california = california.query(\"FIRE_SIZE > 321\")"
   ]
  },
  {
   "cell_type": "markdown",
   "metadata": {},
   "source": [
    "After playing around to where the best place to look at larger fires, I decided to keep as observations only the fires that were bigger than the mean size of California. I did the same .qcut and there are similar counts of fire size in each of the quartile bins. But we can still see in the violin plot that the distribution of fire sizes for California are still heavily skewed right even after we keep larger than average fires."
   ]
  },
  {
   "cell_type": "code",
   "execution_count": 43,
   "metadata": {},
   "outputs": [
    {
     "data": {
      "text/plain": [
       "(321.999, 540.0]       541\n",
       "(3127.75, 315578.8]    540\n",
       "(1081.0, 3127.75]      539\n",
       "(540.0, 1081.0]        538\n",
       "Name: bins, dtype: int64"
      ]
     },
     "execution_count": 43,
     "metadata": {},
     "output_type": "execute_result"
    }
   ],
   "source": [
    "california['bins'] = pd.qcut(california['FIRE_SIZE'],4)\n",
    "california['bins'].value_counts()"
   ]
  },
  {
   "cell_type": "code",
   "execution_count": 44,
   "metadata": {},
   "outputs": [
    {
     "data": {
      "text/plain": [
       "<matplotlib.axes._subplots.AxesSubplot at 0x1a30bc6c88>"
      ]
     },
     "execution_count": 44,
     "metadata": {},
     "output_type": "execute_result"
    },
    {
     "data": {
      "image/png": "[encoded data removed]",
      "text/plain": [
       "<Figure size 432x288 with 1 Axes>"
      ]
     },
     "metadata": {},
     "output_type": "display_data"
    }
   ],
   "source": [
    "sns.violinplot(california.FIRE_SIZE)"
   ]
  },
  {
   "cell_type": "code",
   "execution_count": 51,
   "metadata": {},
   "outputs": [
    {
     "data": {
      "text/plain": [
       "<matplotlib.axes._subplots.AxesSubplot at 0x1a33fd2f60>"
      ]
     },
     "execution_count": 51,
     "metadata": {},
     "output_type": "execute_result"
    },
    {
     "data": {
      "image/png": "[encoded data removed]",
      "text/plain": [
       "<Figure size 432x288 with 1 Axes>"
      ]
     },
     "metadata": {},
     "output_type": "display_data"
    }
   ],
   "source": [
    "california_averages = california.groupby('FIRE_YEAR')['FIRE_SIZE'].mean()\n",
    "california_averages.plot(y= 'FIRE_SIZE', x= 'FIRE_YEAR')"
   ]
  },
  {
   "cell_type": "markdown",
   "metadata": {},
   "source": [
    "This graph shows us the over the last 25 years the average size of fires in California, when only accounting for fires above the average size of all fires in the state throughout the years, has gone up each year."
   ]
  },
  {
   "cell_type": "markdown",
   "metadata": {},
   "source": [
    "# Election 2016 Data"
   ]
  },
  {
   "cell_type": "markdown",
   "metadata": {},
   "source": [
    "For this portion, the dataset that I will be looking at involves data from the 2016 election. The dataset contains\n",
    "data from each county looking at the number of people that voted Democrat, Republican or other. It also looks at voting patterns from the previous three elections. There is also data about the labor force number in each county as well as their unemployment rate."
   ]
  },
  {
   "cell_type": "code",
   "execution_count": 55,
   "metadata": {},
   "outputs": [],
   "source": [
    "election_data = pd.read_excel(\"/Users/nicksteil/Desktop/election1216.xlsx\") #reading in an excel file"
   ]
  },
  {
   "cell_type": "code",
   "execution_count": 56,
   "metadata": {},
   "outputs": [
    {
     "data": {
      "text/html": [
       "<div>\n",
       "<style scoped>\n",
       "    .dataframe tbody tr th:only-of-type {\n",
       "        vertical-align: middle;\n",
       "    }\n",
       "\n",
       "    .dataframe tbody tr th {\n",
       "        vertical-align: top;\n",
       "    }\n",
       "\n",
       "    .dataframe thead th {\n",
       "        text-align: right;\n",
       "    }\n",
       "</style>\n",
       "<table border=\"1\" class=\"dataframe\">\n",
       "  <thead>\n",
       "    <tr style=\"text-align: right;\">\n",
       "      <th></th>\n",
       "      <th>fips_code</th>\n",
       "      <th>county</th>\n",
       "      <th>st</th>\n",
       "      <th>total_2008</th>\n",
       "      <th>dem_2008</th>\n",
       "      <th>gop_2008</th>\n",
       "      <th>oth_2008</th>\n",
       "      <th>total_2012</th>\n",
       "      <th>dem_2012</th>\n",
       "      <th>gop_2012</th>\n",
       "      <th>...</th>\n",
       "      <th>exports_2012</th>\n",
       "      <th>pop_2012</th>\n",
       "      <th>exports_2013</th>\n",
       "      <th>pop_2013</th>\n",
       "      <th>exports_2014</th>\n",
       "      <th>pop_2014</th>\n",
       "      <th>exports_2015</th>\n",
       "      <th>pop_2015</th>\n",
       "      <th>exports_2016</th>\n",
       "      <th>pop_2016</th>\n",
       "    </tr>\n",
       "  </thead>\n",
       "  <tbody>\n",
       "    <tr>\n",
       "      <th>0</th>\n",
       "      <td>1001</td>\n",
       "      <td>Autauga County, Alabama</td>\n",
       "      <td>AL</td>\n",
       "      <td>23641</td>\n",
       "      <td>6093</td>\n",
       "      <td>17403</td>\n",
       "      <td>145</td>\n",
       "      <td>23909</td>\n",
       "      <td>6354</td>\n",
       "      <td>17366</td>\n",
       "      <td>...</td>\n",
       "      <td>NaN</td>\n",
       "      <td>NaN</td>\n",
       "      <td>NaN</td>\n",
       "      <td>NaN</td>\n",
       "      <td>NaN</td>\n",
       "      <td>NaN</td>\n",
       "      <td>NaN</td>\n",
       "      <td>NaN</td>\n",
       "      <td>NaN</td>\n",
       "      <td>NaN</td>\n",
       "    </tr>\n",
       "    <tr>\n",
       "      <th>1</th>\n",
       "      <td>1003</td>\n",
       "      <td>Baldwin County, Alabama</td>\n",
       "      <td>AL</td>\n",
       "      <td>81413</td>\n",
       "      <td>19386</td>\n",
       "      <td>61271</td>\n",
       "      <td>756</td>\n",
       "      <td>84988</td>\n",
       "      <td>18329</td>\n",
       "      <td>65772</td>\n",
       "      <td>...</td>\n",
       "      <td>NaN</td>\n",
       "      <td>NaN</td>\n",
       "      <td>NaN</td>\n",
       "      <td>NaN</td>\n",
       "      <td>NaN</td>\n",
       "      <td>NaN</td>\n",
       "      <td>NaN</td>\n",
       "      <td>NaN</td>\n",
       "      <td>NaN</td>\n",
       "      <td>NaN</td>\n",
       "    </tr>\n",
       "    <tr>\n",
       "      <th>2</th>\n",
       "      <td>1005</td>\n",
       "      <td>Barbour County, Alabama</td>\n",
       "      <td>AL</td>\n",
       "      <td>11630</td>\n",
       "      <td>5697</td>\n",
       "      <td>5866</td>\n",
       "      <td>67</td>\n",
       "      <td>11459</td>\n",
       "      <td>5873</td>\n",
       "      <td>5539</td>\n",
       "      <td>...</td>\n",
       "      <td>NaN</td>\n",
       "      <td>NaN</td>\n",
       "      <td>NaN</td>\n",
       "      <td>NaN</td>\n",
       "      <td>NaN</td>\n",
       "      <td>NaN</td>\n",
       "      <td>NaN</td>\n",
       "      <td>NaN</td>\n",
       "      <td>NaN</td>\n",
       "      <td>NaN</td>\n",
       "    </tr>\n",
       "    <tr>\n",
       "      <th>3</th>\n",
       "      <td>1007</td>\n",
       "      <td>Bibb County, Alabama</td>\n",
       "      <td>AL</td>\n",
       "      <td>8644</td>\n",
       "      <td>2299</td>\n",
       "      <td>6262</td>\n",
       "      <td>83</td>\n",
       "      <td>8391</td>\n",
       "      <td>2200</td>\n",
       "      <td>6131</td>\n",
       "      <td>...</td>\n",
       "      <td>NaN</td>\n",
       "      <td>NaN</td>\n",
       "      <td>NaN</td>\n",
       "      <td>NaN</td>\n",
       "      <td>NaN</td>\n",
       "      <td>NaN</td>\n",
       "      <td>NaN</td>\n",
       "      <td>NaN</td>\n",
       "      <td>NaN</td>\n",
       "      <td>NaN</td>\n",
       "    </tr>\n",
       "    <tr>\n",
       "      <th>4</th>\n",
       "      <td>1009</td>\n",
       "      <td>Blount County, Alabama</td>\n",
       "      <td>AL</td>\n",
       "      <td>24267</td>\n",
       "      <td>3522</td>\n",
       "      <td>20389</td>\n",
       "      <td>356</td>\n",
       "      <td>23980</td>\n",
       "      <td>2961</td>\n",
       "      <td>20741</td>\n",
       "      <td>...</td>\n",
       "      <td>NaN</td>\n",
       "      <td>NaN</td>\n",
       "      <td>NaN</td>\n",
       "      <td>NaN</td>\n",
       "      <td>NaN</td>\n",
       "      <td>NaN</td>\n",
       "      <td>NaN</td>\n",
       "      <td>NaN</td>\n",
       "      <td>NaN</td>\n",
       "      <td>NaN</td>\n",
       "    </tr>\n",
       "    <tr>\n",
       "      <th>5</th>\n",
       "      <td>1011</td>\n",
       "      <td>Bullock County, Alabama</td>\n",
       "      <td>AL</td>\n",
       "      <td>5415</td>\n",
       "      <td>4011</td>\n",
       "      <td>1391</td>\n",
       "      <td>13</td>\n",
       "      <td>5318</td>\n",
       "      <td>4058</td>\n",
       "      <td>1250</td>\n",
       "      <td>...</td>\n",
       "      <td>NaN</td>\n",
       "      <td>NaN</td>\n",
       "      <td>NaN</td>\n",
       "      <td>NaN</td>\n",
       "      <td>NaN</td>\n",
       "      <td>NaN</td>\n",
       "      <td>NaN</td>\n",
       "      <td>NaN</td>\n",
       "      <td>NaN</td>\n",
       "      <td>NaN</td>\n",
       "    </tr>\n",
       "    <tr>\n",
       "      <th>6</th>\n",
       "      <td>1013</td>\n",
       "      <td>Butler County, Alabama</td>\n",
       "      <td>AL</td>\n",
       "      <td>9709</td>\n",
       "      <td>4188</td>\n",
       "      <td>5485</td>\n",
       "      <td>36</td>\n",
       "      <td>9483</td>\n",
       "      <td>4367</td>\n",
       "      <td>5081</td>\n",
       "      <td>...</td>\n",
       "      <td>NaN</td>\n",
       "      <td>NaN</td>\n",
       "      <td>NaN</td>\n",
       "      <td>NaN</td>\n",
       "      <td>NaN</td>\n",
       "      <td>NaN</td>\n",
       "      <td>NaN</td>\n",
       "      <td>NaN</td>\n",
       "      <td>NaN</td>\n",
       "      <td>NaN</td>\n",
       "    </tr>\n",
       "    <tr>\n",
       "      <th>7</th>\n",
       "      <td>1015</td>\n",
       "      <td>Calhoun County, Alabama</td>\n",
       "      <td>AL</td>\n",
       "      <td>49242</td>\n",
       "      <td>16334</td>\n",
       "      <td>32348</td>\n",
       "      <td>560</td>\n",
       "      <td>46240</td>\n",
       "      <td>15500</td>\n",
       "      <td>30272</td>\n",
       "      <td>...</td>\n",
       "      <td>NaN</td>\n",
       "      <td>NaN</td>\n",
       "      <td>NaN</td>\n",
       "      <td>NaN</td>\n",
       "      <td>NaN</td>\n",
       "      <td>NaN</td>\n",
       "      <td>NaN</td>\n",
       "      <td>NaN</td>\n",
       "      <td>NaN</td>\n",
       "      <td>NaN</td>\n",
       "    </tr>\n",
       "    <tr>\n",
       "      <th>8</th>\n",
       "      <td>1017</td>\n",
       "      <td>Chambers County, Alabama</td>\n",
       "      <td>AL</td>\n",
       "      <td>14956</td>\n",
       "      <td>6799</td>\n",
       "      <td>8067</td>\n",
       "      <td>90</td>\n",
       "      <td>14562</td>\n",
       "      <td>6853</td>\n",
       "      <td>7596</td>\n",
       "      <td>...</td>\n",
       "      <td>NaN</td>\n",
       "      <td>NaN</td>\n",
       "      <td>NaN</td>\n",
       "      <td>NaN</td>\n",
       "      <td>NaN</td>\n",
       "      <td>NaN</td>\n",
       "      <td>NaN</td>\n",
       "      <td>NaN</td>\n",
       "      <td>NaN</td>\n",
       "      <td>NaN</td>\n",
       "    </tr>\n",
       "    <tr>\n",
       "      <th>9</th>\n",
       "      <td>1019</td>\n",
       "      <td>Cherokee County, Alabama</td>\n",
       "      <td>AL</td>\n",
       "      <td>9745</td>\n",
       "      <td>2306</td>\n",
       "      <td>7298</td>\n",
       "      <td>141</td>\n",
       "      <td>9761</td>\n",
       "      <td>2126</td>\n",
       "      <td>7494</td>\n",
       "      <td>...</td>\n",
       "      <td>NaN</td>\n",
       "      <td>NaN</td>\n",
       "      <td>NaN</td>\n",
       "      <td>NaN</td>\n",
       "      <td>NaN</td>\n",
       "      <td>NaN</td>\n",
       "      <td>NaN</td>\n",
       "      <td>NaN</td>\n",
       "      <td>NaN</td>\n",
       "      <td>NaN</td>\n",
       "    </tr>\n",
       "  </tbody>\n",
       "</table>\n",
       "<p>10 rows × 33 columns</p>\n",
       "</div>"
      ],
      "text/plain": [
       "   fips_code                    county  st  total_2008  dem_2008  gop_2008  \\\n",
       "0       1001   Autauga County, Alabama  AL       23641      6093     17403   \n",
       "1       1003   Baldwin County, Alabama  AL       81413     19386     61271   \n",
       "2       1005   Barbour County, Alabama  AL       11630      5697      5866   \n",
       "3       1007      Bibb County, Alabama  AL        8644      2299      6262   \n",
       "4       1009    Blount County, Alabama  AL       24267      3522     20389   \n",
       "5       1011   Bullock County, Alabama  AL        5415      4011      1391   \n",
       "6       1013    Butler County, Alabama  AL        9709      4188      5485   \n",
       "7       1015   Calhoun County, Alabama  AL       49242     16334     32348   \n",
       "8       1017  Chambers County, Alabama  AL       14956      6799      8067   \n",
       "9       1019  Cherokee County, Alabama  AL        9745      2306      7298   \n",
       "\n",
       "   oth_2008  total_2012  dem_2012  gop_2012    ...     exports_2012  pop_2012  \\\n",
       "0       145       23909      6354     17366    ...              NaN       NaN   \n",
       "1       756       84988     18329     65772    ...              NaN       NaN   \n",
       "2        67       11459      5873      5539    ...              NaN       NaN   \n",
       "3        83        8391      2200      6131    ...              NaN       NaN   \n",
       "4       356       23980      2961     20741    ...              NaN       NaN   \n",
       "5        13        5318      4058      1250    ...              NaN       NaN   \n",
       "6        36        9483      4367      5081    ...              NaN       NaN   \n",
       "7       560       46240     15500     30272    ...              NaN       NaN   \n",
       "8        90       14562      6853      7596    ...              NaN       NaN   \n",
       "9       141        9761      2126      7494    ...              NaN       NaN   \n",
       "\n",
       "   exports_2013  pop_2013  exports_2014  pop_2014  exports_2015  pop_2015  \\\n",
       "0           NaN       NaN           NaN       NaN           NaN       NaN   \n",
       "1           NaN       NaN           NaN       NaN           NaN       NaN   \n",
       "2           NaN       NaN           NaN       NaN           NaN       NaN   \n",
       "3           NaN       NaN           NaN       NaN           NaN       NaN   \n",
       "4           NaN       NaN           NaN       NaN           NaN       NaN   \n",
       "5           NaN       NaN           NaN       NaN           NaN       NaN   \n",
       "6           NaN       NaN           NaN       NaN           NaN       NaN   \n",
       "7           NaN       NaN           NaN       NaN           NaN       NaN   \n",
       "8           NaN       NaN           NaN       NaN           NaN       NaN   \n",
       "9           NaN       NaN           NaN       NaN           NaN       NaN   \n",
       "\n",
       "   exports_2016  pop_2016  \n",
       "0           NaN       NaN  \n",
       "1           NaN       NaN  \n",
       "2           NaN       NaN  \n",
       "3           NaN       NaN  \n",
       "4           NaN       NaN  \n",
       "5           NaN       NaN  \n",
       "6           NaN       NaN  \n",
       "7           NaN       NaN  \n",
       "8           NaN       NaN  \n",
       "9           NaN       NaN  \n",
       "\n",
       "[10 rows x 33 columns]"
      ]
     },
     "execution_count": 56,
     "metadata": {},
     "output_type": "execute_result"
    }
   ],
   "source": [
    "Check_Data(election_data,10) #to see what the data looks like"
   ]
  },
  {
   "cell_type": "code",
   "execution_count": 57,
   "metadata": {},
   "outputs": [
    {
     "data": {
      "text/plain": [
       "Index(['labor_force_13', 'labor_force_16', 'u_rate_13', 'u_rate_16',\n",
       "       'avg_total_wages_13', 'avg_total_wages_16', 'avg_pm_wages_13',\n",
       "       'avg_pm_wages_16', 'exports_2012', 'pop_2012', 'exports_2013',\n",
       "       'pop_2013', 'exports_2014', 'pop_2014', 'exports_2015', 'pop_2015',\n",
       "       'exports_2016', 'pop_2016'],\n",
       "      dtype='object')"
      ]
     },
     "execution_count": 57,
     "metadata": {},
     "output_type": "execute_result"
    }
   ],
   "source": [
    "Find_Missing_Values(election_data)"
   ]
  },
  {
   "cell_type": "markdown",
   "metadata": {},
   "source": [
    "From the previous function, there are a lot of columns with missing data. When looking at the actually dataset specifically the columns from exports_12 to pop_2016, a small percentage of these columns actually have data."
   ]
  },
  {
   "cell_type": "code",
   "execution_count": 58,
   "metadata": {},
   "outputs": [
    {
     "data": {
      "text/plain": [
       "0.10700514138817485"
      ]
     },
     "execution_count": 58,
     "metadata": {},
     "output_type": "execute_result"
    }
   ],
   "source": [
    " 1 - (election_data['pop_2012'].isnull().sum() / len(election_data['pop_2012']))\n",
    "#take the count of the rows with missing data in pop_2012 and divide it by the length of the column"
   ]
  },
  {
   "cell_type": "markdown",
   "metadata": {},
   "source": [
    "For example, in the column pop_2012 only 10 percent of the counties had data for their population in 2012. When looking at the entire dataset, it appears that as a general rule either the county has all of the data for the columns from exports_12 to pop_2016 or they all are missing, with a small number of exceptions. Since I can't gleam much information from the columns that I do have data, I will choose to keep these columns with missing data. For example, it would be hard to project the population of a county with just their voter turnout. "
   ]
  },
  {
   "cell_type": "markdown",
   "metadata": {},
   "source": [
    "I now focus on filling the missing data where we have a lot of data, but a few rows have missing data in different\n",
    "columns."
   ]
  },
  {
   "cell_type": "code",
   "execution_count": 59,
   "metadata": {},
   "outputs": [
    {
     "data": {
      "text/plain": [
       "st\n",
       "AL     32364.432836\n",
       "AR     17445.173333\n",
       "AZ    202445.666667\n",
       "CA    321111.741379\n",
       "CO     43369.937500\n",
       "CT    233602.875000\n",
       "DC              NaN\n",
       "DE    147498.333333\n",
       "FL    141032.388060\n",
       "GA     29926.911950\n",
       "HI    162387.500000\n",
       "IA     17246.072165\n",
       "ID     17543.090909\n",
       "IL     64265.333333\n",
       "IN     34684.456522\n",
       "KS     14161.142857\n",
       "KY     17145.658333\n",
       "LA     32891.515625\n",
       "MA    250793.928571\n",
       "MD    121943.476190\n",
       "ME     44210.125000\n",
       "MI     56959.445783\n",
       "MN     33968.712644\n",
       "MO     26282.860870\n",
       "MS     15484.390244\n",
       "MT      9147.250000\n",
       "NC     46817.140000\n",
       "ND      7679.452830\n",
       "NE     10949.086022\n",
       "NH     74202.700000\n",
       "NJ    215802.857143\n",
       "NM     27987.151515\n",
       "NV     81302.647059\n",
       "NY    155211.080645\n",
       "OH     64946.170455\n",
       "OK     23455.324675\n",
       "OR     52971.944444\n",
       "PA     96148.223881\n",
       "RI    111423.400000\n",
       "SC     47702.543478\n",
       "SD      6785.153846\n",
       "TN     32342.368421\n",
       "TX     50878.102767\n",
       "UT     48567.379310\n",
       "VA     31853.924812\n",
       "VT     25089.642857\n",
       "WA     88774.512821\n",
       "WI     42814.347222\n",
       "WV     14512.309091\n",
       "WY     13319.347826\n",
       "Name: labor_force_13, dtype: float64"
      ]
     },
     "execution_count": 59,
     "metadata": {},
     "output_type": "execute_result"
    }
   ],
   "source": [
    "election_data.groupby('st')['labor_force_13'].mean()\n",
    "#groupby state and then take the mean of labor force in 2013"
   ]
  },
  {
   "cell_type": "code",
   "execution_count": 60,
   "metadata": {},
   "outputs": [],
   "source": [
    "list1 = ['labor_force_13', 'labor_force_16', 'u_rate_13', 'u_rate_16', 'avg_total_wages_13',\n",
    "        'avg_total_wages_16', 'avg_pm_wages_13', 'avg_pm_wages_16']\n",
    "#make of list of columns that have missing values and I want them to be filled"
   ]
  },
  {
   "cell_type": "code",
   "execution_count": 61,
   "metadata": {
    "scrolled": true
   },
   "outputs": [
    {
     "data": {
      "text/html": [
       "<div>\n",
       "<style scoped>\n",
       "    .dataframe tbody tr th:only-of-type {\n",
       "        vertical-align: middle;\n",
       "    }\n",
       "\n",
       "    .dataframe tbody tr th {\n",
       "        vertical-align: top;\n",
       "    }\n",
       "\n",
       "    .dataframe thead th {\n",
       "        text-align: right;\n",
       "    }\n",
       "</style>\n",
       "<table border=\"1\" class=\"dataframe\">\n",
       "  <thead>\n",
       "    <tr style=\"text-align: right;\">\n",
       "      <th></th>\n",
       "      <th>labor_force_13</th>\n",
       "      <th>labor_force_16</th>\n",
       "      <th>u_rate_13</th>\n",
       "      <th>u_rate_16</th>\n",
       "      <th>avg_total_wages_13</th>\n",
       "      <th>avg_total_wages_16</th>\n",
       "      <th>avg_pm_wages_13</th>\n",
       "      <th>avg_pm_wages_16</th>\n",
       "    </tr>\n",
       "  </thead>\n",
       "  <tbody>\n",
       "    <tr>\n",
       "      <th>290</th>\n",
       "      <td>NaN</td>\n",
       "      <td>NaN</td>\n",
       "      <td>NaN</td>\n",
       "      <td>NaN</td>\n",
       "      <td>NaN</td>\n",
       "      <td>NaN</td>\n",
       "      <td>NaN</td>\n",
       "      <td>NaN</td>\n",
       "    </tr>\n",
       "  </tbody>\n",
       "</table>\n",
       "</div>"
      ],
      "text/plain": [
       "     labor_force_13  labor_force_16  u_rate_13  u_rate_16  avg_total_wages_13  \\\n",
       "290             NaN             NaN        NaN        NaN                 NaN   \n",
       "\n",
       "     avg_total_wages_16  avg_pm_wages_13  avg_pm_wages_16  \n",
       "290                 NaN              NaN              NaN  "
      ]
     },
     "execution_count": 61,
     "metadata": {},
     "output_type": "execute_result"
    }
   ],
   "source": [
    "Show_Row(election_data, election_data['st'], \"DC\", list1)\n",
    "#extacting the data from columns from the list above and only want the DC obsevation"
   ]
  },
  {
   "cell_type": "markdown",
   "metadata": {},
   "source": [
    "Based on the groupby performed above, DC does not have data for labor_force_2013. When looking at the rest of their data for the list of columns that have missing data, for DC all have missing data. This a unique case that needs to be addressed. In order to fill the missing data for DC, I will take the average of all the rows for a given column and use that the fill the DC data for that column. That might not be the best approach. I better might be to use the data of a county that is similar in characteristics like population size and similar political demographics. But since this is just one country out of more than 3000, if should not drastically change our analysis."
   ]
  },
  {
   "cell_type": "code",
   "execution_count": 62,
   "metadata": {},
   "outputs": [],
   "source": [
    "for column in list1:\n",
    "    election_data.loc[election_data['st'] == 'DC',column] = election_data[column].mean()\n",
    "#Run a for loop across the list of columns with missing variables. Use .loc to locate the row and column that\n",
    "#I want to be replaced with the mean of each column as it goes throguh the loop."
   ]
  },
  {
   "cell_type": "code",
   "execution_count": 63,
   "metadata": {},
   "outputs": [
    {
     "data": {
      "text/html": [
       "<div>\n",
       "<style scoped>\n",
       "    .dataframe tbody tr th:only-of-type {\n",
       "        vertical-align: middle;\n",
       "    }\n",
       "\n",
       "    .dataframe tbody tr th {\n",
       "        vertical-align: top;\n",
       "    }\n",
       "\n",
       "    .dataframe thead th {\n",
       "        text-align: right;\n",
       "    }\n",
       "</style>\n",
       "<table border=\"1\" class=\"dataframe\">\n",
       "  <thead>\n",
       "    <tr style=\"text-align: right;\">\n",
       "      <th></th>\n",
       "      <th>labor_force_13</th>\n",
       "      <th>labor_force_16</th>\n",
       "      <th>u_rate_13</th>\n",
       "      <th>u_rate_16</th>\n",
       "      <th>avg_total_wages_13</th>\n",
       "      <th>avg_total_wages_16</th>\n",
       "      <th>avg_pm_wages_13</th>\n",
       "      <th>avg_pm_wages_16</th>\n",
       "    </tr>\n",
       "  </thead>\n",
       "  <tbody>\n",
       "    <tr>\n",
       "      <th>290</th>\n",
       "      <td>49662.287693</td>\n",
       "      <td>50664.127776</td>\n",
       "      <td>7.358119</td>\n",
       "      <td>5.222755</td>\n",
       "      <td>36434.271585</td>\n",
       "      <td>38820.460129</td>\n",
       "      <td>45823.209724</td>\n",
       "      <td>48916.517078</td>\n",
       "    </tr>\n",
       "  </tbody>\n",
       "</table>\n",
       "</div>"
      ],
      "text/plain": [
       "     labor_force_13  labor_force_16  u_rate_13  u_rate_16  avg_total_wages_13  \\\n",
       "290    49662.287693    50664.127776   7.358119   5.222755        36434.271585   \n",
       "\n",
       "     avg_total_wages_16  avg_pm_wages_13  avg_pm_wages_16  \n",
       "290        38820.460129     45823.209724     48916.517078  "
      ]
     },
     "execution_count": 63,
     "metadata": {},
     "output_type": "execute_result"
    }
   ],
   "source": [
    "Show_Row(election_data, election_data['st'], \"DC\", list1)\n",
    "#For DC, filling the missing data worked"
   ]
  },
  {
   "cell_type": "markdown",
   "metadata": {},
   "source": [
    "From the extraction above, all of the missing data for DC has been filled. Now to address the other counties that have missing data, I am going to replace the missing values with the average of the data that I have from the other counties that belong in the same state. There is less variation when looking at a single state than across the entire US, and their average would be more likely closer to the true value that is missing. As an example we are going to look at Delaware. "
   ]
  },
  {
   "cell_type": "code",
   "execution_count": 64,
   "metadata": {},
   "outputs": [
    {
     "data": {
      "text/html": [
       "<div>\n",
       "<style scoped>\n",
       "    .dataframe tbody tr th:only-of-type {\n",
       "        vertical-align: middle;\n",
       "    }\n",
       "\n",
       "    .dataframe tbody tr th {\n",
       "        vertical-align: top;\n",
       "    }\n",
       "\n",
       "    .dataframe thead th {\n",
       "        text-align: right;\n",
       "    }\n",
       "</style>\n",
       "<table border=\"1\" class=\"dataframe\">\n",
       "  <thead>\n",
       "    <tr style=\"text-align: right;\">\n",
       "      <th></th>\n",
       "      <th>labor_force_13</th>\n",
       "      <th>labor_force_16</th>\n",
       "      <th>u_rate_13</th>\n",
       "      <th>u_rate_16</th>\n",
       "      <th>avg_total_wages_13</th>\n",
       "      <th>avg_total_wages_16</th>\n",
       "      <th>avg_pm_wages_13</th>\n",
       "      <th>avg_pm_wages_16</th>\n",
       "    </tr>\n",
       "  </thead>\n",
       "  <tbody>\n",
       "    <tr>\n",
       "      <th>287</th>\n",
       "      <td>73779.0</td>\n",
       "      <td>77541.0</td>\n",
       "      <td>7.4</td>\n",
       "      <td>4.7</td>\n",
       "      <td>38575.0</td>\n",
       "      <td>41675.0</td>\n",
       "      <td>47101.0</td>\n",
       "      <td>50598.0</td>\n",
       "    </tr>\n",
       "    <tr>\n",
       "      <th>288</th>\n",
       "      <td>276512.0</td>\n",
       "      <td>295092.0</td>\n",
       "      <td>6.5</td>\n",
       "      <td>4.3</td>\n",
       "      <td>58939.0</td>\n",
       "      <td>59992.0</td>\n",
       "      <td>NaN</td>\n",
       "      <td>NaN</td>\n",
       "    </tr>\n",
       "    <tr>\n",
       "      <th>289</th>\n",
       "      <td>92204.0</td>\n",
       "      <td>100044.0</td>\n",
       "      <td>6.9</td>\n",
       "      <td>4.4</td>\n",
       "      <td>35217.0</td>\n",
       "      <td>38546.0</td>\n",
       "      <td>38840.0</td>\n",
       "      <td>42090.0</td>\n",
       "    </tr>\n",
       "  </tbody>\n",
       "</table>\n",
       "</div>"
      ],
      "text/plain": [
       "     labor_force_13  labor_force_16  u_rate_13  u_rate_16  avg_total_wages_13  \\\n",
       "287         73779.0         77541.0        7.4        4.7             38575.0   \n",
       "288        276512.0        295092.0        6.5        4.3             58939.0   \n",
       "289         92204.0        100044.0        6.9        4.4             35217.0   \n",
       "\n",
       "     avg_total_wages_16  avg_pm_wages_13  avg_pm_wages_16  \n",
       "287             41675.0          47101.0          50598.0  \n",
       "288             59992.0              NaN              NaN  \n",
       "289             38546.0          38840.0          42090.0  "
      ]
     },
     "execution_count": 64,
     "metadata": {},
     "output_type": "execute_result"
    }
   ],
   "source": [
    "Show_Row(election_data, election_data['st'], \"DE\", list1)\n",
    "#These are the data from the three counties of Delaware from the list of columns that have missing values"
   ]
  },
  {
   "cell_type": "code",
   "execution_count": 65,
   "metadata": {},
   "outputs": [],
   "source": [
    "for column in list1:\n",
    "    election_data[column].fillna(election_data.groupby(\"st\")[column].transform(\"mean\"), inplace = True)\n",
    "    \n",
    "#Run a for loop across the list of columns with missing values. I group by state. I use .tranform to calucate the mean\n",
    "#across each state. .transform returns a list of the means the same length as the column. I set inplace = True\n",
    "#so that it replace the original data with outputs of the .transform function. I only fill the missing values with\n",
    "#the means from the .transform function."
   ]
  },
  {
   "cell_type": "code",
   "execution_count": 66,
   "metadata": {},
   "outputs": [
    {
     "data": {
      "text/html": [
       "<div>\n",
       "<style scoped>\n",
       "    .dataframe tbody tr th:only-of-type {\n",
       "        vertical-align: middle;\n",
       "    }\n",
       "\n",
       "    .dataframe tbody tr th {\n",
       "        vertical-align: top;\n",
       "    }\n",
       "\n",
       "    .dataframe thead th {\n",
       "        text-align: right;\n",
       "    }\n",
       "</style>\n",
       "<table border=\"1\" class=\"dataframe\">\n",
       "  <thead>\n",
       "    <tr style=\"text-align: right;\">\n",
       "      <th></th>\n",
       "      <th>labor_force_13</th>\n",
       "      <th>labor_force_16</th>\n",
       "      <th>u_rate_13</th>\n",
       "      <th>u_rate_16</th>\n",
       "      <th>avg_total_wages_13</th>\n",
       "      <th>avg_total_wages_16</th>\n",
       "      <th>avg_pm_wages_13</th>\n",
       "      <th>avg_pm_wages_16</th>\n",
       "    </tr>\n",
       "  </thead>\n",
       "  <tbody>\n",
       "    <tr>\n",
       "      <th>287</th>\n",
       "      <td>73779.0</td>\n",
       "      <td>77541.0</td>\n",
       "      <td>7.4</td>\n",
       "      <td>4.7</td>\n",
       "      <td>38575.0</td>\n",
       "      <td>41675.0</td>\n",
       "      <td>47101.0</td>\n",
       "      <td>50598.0</td>\n",
       "    </tr>\n",
       "    <tr>\n",
       "      <th>288</th>\n",
       "      <td>276512.0</td>\n",
       "      <td>295092.0</td>\n",
       "      <td>6.5</td>\n",
       "      <td>4.3</td>\n",
       "      <td>58939.0</td>\n",
       "      <td>59992.0</td>\n",
       "      <td>42970.5</td>\n",
       "      <td>46344.0</td>\n",
       "    </tr>\n",
       "    <tr>\n",
       "      <th>289</th>\n",
       "      <td>92204.0</td>\n",
       "      <td>100044.0</td>\n",
       "      <td>6.9</td>\n",
       "      <td>4.4</td>\n",
       "      <td>35217.0</td>\n",
       "      <td>38546.0</td>\n",
       "      <td>38840.0</td>\n",
       "      <td>42090.0</td>\n",
       "    </tr>\n",
       "  </tbody>\n",
       "</table>\n",
       "</div>"
      ],
      "text/plain": [
       "     labor_force_13  labor_force_16  u_rate_13  u_rate_16  avg_total_wages_13  \\\n",
       "287         73779.0         77541.0        7.4        4.7             38575.0   \n",
       "288        276512.0        295092.0        6.5        4.3             58939.0   \n",
       "289         92204.0        100044.0        6.9        4.4             35217.0   \n",
       "\n",
       "     avg_total_wages_16  avg_pm_wages_13  avg_pm_wages_16  \n",
       "287             41675.0          47101.0          50598.0  \n",
       "288             59992.0          42970.5          46344.0  \n",
       "289             38546.0          38840.0          42090.0  "
      ]
     },
     "execution_count": 66,
     "metadata": {},
     "output_type": "execute_result"
    }
   ],
   "source": [
    "Show_Row(election_data, election_data['st'], \"DE\", list1)\n",
    "#I was able to fill the missing values with the averages from the other counties in Delaware."
   ]
  },
  {
   "cell_type": "code",
   "execution_count": 67,
   "metadata": {},
   "outputs": [
    {
     "data": {
      "text/plain": [
       "Index(['exports_2012', 'pop_2012', 'exports_2013', 'pop_2013', 'exports_2014',\n",
       "       'pop_2014', 'exports_2015', 'pop_2015', 'exports_2016', 'pop_2016'],\n",
       "      dtype='object')"
      ]
     },
     "execution_count": 67,
     "metadata": {},
     "output_type": "execute_result"
    }
   ],
   "source": [
    "Find_Missing_Values(election_data)"
   ]
  },
  {
   "cell_type": "markdown",
   "metadata": {},
   "source": [
    "Now I can see that the only columns that I am interested in do not have any missing values. Only the columns that were previously mentioned will keep having missing values."
   ]
  },
  {
   "cell_type": "code",
   "execution_count": 68,
   "metadata": {},
   "outputs": [
    {
     "name": "stdout",
     "output_type": "stream",
     "text": [
      "<class 'pandas.core.frame.DataFrame'>\n",
      "RangeIndex: 3112 entries, 0 to 3111\n",
      "Data columns (total 33 columns):\n",
      "fips_code             3112 non-null int64\n",
      "county                3112 non-null object\n",
      "st                    3112 non-null object\n",
      "total_2008            3112 non-null int64\n",
      "dem_2008              3112 non-null int64\n",
      "gop_2008              3112 non-null int64\n",
      "oth_2008              3112 non-null int64\n",
      "total_2012            3112 non-null int64\n",
      "dem_2012              3112 non-null int64\n",
      "gop_2012              3112 non-null int64\n",
      "oth_2012              3112 non-null int64\n",
      "total_2016            3112 non-null int64\n",
      "dem_2016              3112 non-null int64\n",
      "gop_2016              3112 non-null int64\n",
      "oth_2016              3112 non-null int64\n",
      "labor_force_13        3112 non-null float64\n",
      "labor_force_16        3112 non-null float64\n",
      "u_rate_13             3112 non-null float64\n",
      "u_rate_16             3112 non-null float64\n",
      "avg_total_wages_13    3112 non-null float64\n",
      "avg_total_wages_16    3112 non-null float64\n",
      "avg_pm_wages_13       3112 non-null float64\n",
      "avg_pm_wages_16       3112 non-null float64\n",
      "exports_2012          278 non-null float64\n",
      "pop_2012              333 non-null float64\n",
      "exports_2013          285 non-null float64\n",
      "pop_2013              333 non-null float64\n",
      "exports_2014          279 non-null float64\n",
      "pop_2014              333 non-null float64\n",
      "exports_2015          271 non-null float64\n",
      "pop_2015              333 non-null float64\n",
      "exports_2016          276 non-null float64\n",
      "pop_2016              333 non-null float64\n",
      "dtypes: float64(18), int64(13), object(2)\n",
      "memory usage: 802.4+ KB\n"
     ]
    }
   ],
   "source": [
    "Info_Dataframe(election_data) # data is a combination of numerical and categorical data"
   ]
  },
  {
   "cell_type": "code",
   "execution_count": 69,
   "metadata": {},
   "outputs": [
    {
     "data": {
      "text/html": [
       "<div>\n",
       "<style scoped>\n",
       "    .dataframe tbody tr th:only-of-type {\n",
       "        vertical-align: middle;\n",
       "    }\n",
       "\n",
       "    .dataframe tbody tr th {\n",
       "        vertical-align: top;\n",
       "    }\n",
       "\n",
       "    .dataframe thead th {\n",
       "        text-align: right;\n",
       "    }\n",
       "</style>\n",
       "<table border=\"1\" class=\"dataframe\">\n",
       "  <thead>\n",
       "    <tr style=\"text-align: right;\">\n",
       "      <th></th>\n",
       "      <th>fips_code</th>\n",
       "      <th>total_2008</th>\n",
       "      <th>dem_2008</th>\n",
       "      <th>gop_2008</th>\n",
       "      <th>oth_2008</th>\n",
       "      <th>total_2012</th>\n",
       "      <th>dem_2012</th>\n",
       "      <th>gop_2012</th>\n",
       "      <th>oth_2012</th>\n",
       "      <th>total_2016</th>\n",
       "      <th>...</th>\n",
       "      <th>exports_2012</th>\n",
       "      <th>pop_2012</th>\n",
       "      <th>exports_2013</th>\n",
       "      <th>pop_2013</th>\n",
       "      <th>exports_2014</th>\n",
       "      <th>pop_2014</th>\n",
       "      <th>exports_2015</th>\n",
       "      <th>pop_2015</th>\n",
       "      <th>exports_2016</th>\n",
       "      <th>pop_2016</th>\n",
       "    </tr>\n",
       "  </thead>\n",
       "  <tbody>\n",
       "    <tr>\n",
       "      <th>count</th>\n",
       "      <td>3112.000000</td>\n",
       "      <td>3.112000e+03</td>\n",
       "      <td>3.112000e+03</td>\n",
       "      <td>3112.000000</td>\n",
       "      <td>3112.000000</td>\n",
       "      <td>3.112000e+03</td>\n",
       "      <td>3.112000e+03</td>\n",
       "      <td>3112.000000</td>\n",
       "      <td>3112.000000</td>\n",
       "      <td>3.112000e+03</td>\n",
       "      <td>...</td>\n",
       "      <td>2.780000e+02</td>\n",
       "      <td>3.330000e+02</td>\n",
       "      <td>2.850000e+02</td>\n",
       "      <td>3.330000e+02</td>\n",
       "      <td>2.790000e+02</td>\n",
       "      <td>3.330000e+02</td>\n",
       "      <td>2.710000e+02</td>\n",
       "      <td>3.330000e+02</td>\n",
       "      <td>2.760000e+02</td>\n",
       "      <td>3.330000e+02</td>\n",
       "    </tr>\n",
       "    <tr>\n",
       "      <th>mean</th>\n",
       "      <td>30651.700514</td>\n",
       "      <td>4.215395e+04</td>\n",
       "      <td>2.231125e+04</td>\n",
       "      <td>19207.531491</td>\n",
       "      <td>587.632391</td>\n",
       "      <td>3.950556e+04</td>\n",
       "      <td>1.999004e+04</td>\n",
       "      <td>18890.392352</td>\n",
       "      <td>625.129820</td>\n",
       "      <td>4.089631e+04</td>\n",
       "      <td>...</td>\n",
       "      <td>3.118923e+09</td>\n",
       "      <td>4.563967e+05</td>\n",
       "      <td>3.340438e+09</td>\n",
       "      <td>4.606559e+05</td>\n",
       "      <td>3.364063e+09</td>\n",
       "      <td>4.650508e+05</td>\n",
       "      <td>3.172293e+09</td>\n",
       "      <td>4.692372e+05</td>\n",
       "      <td>3.070583e+09</td>\n",
       "      <td>4.730744e+05</td>\n",
       "    </tr>\n",
       "    <tr>\n",
       "      <th>std</th>\n",
       "      <td>14984.654885</td>\n",
       "      <td>1.199957e+05</td>\n",
       "      <td>7.715532e+04</td>\n",
       "      <td>44866.795361</td>\n",
       "      <td>1846.444842</td>\n",
       "      <td>1.056297e+05</td>\n",
       "      <td>6.599190e+04</td>\n",
       "      <td>41731.449644</td>\n",
       "      <td>1839.801275</td>\n",
       "      <td>1.082522e+05</td>\n",
       "      <td>...</td>\n",
       "      <td>6.584405e+09</td>\n",
       "      <td>8.350497e+05</td>\n",
       "      <td>8.606189e+09</td>\n",
       "      <td>8.424383e+05</td>\n",
       "      <td>8.618321e+09</td>\n",
       "      <td>8.494471e+05</td>\n",
       "      <td>7.422868e+09</td>\n",
       "      <td>8.559415e+05</td>\n",
       "      <td>6.780422e+09</td>\n",
       "      <td>8.608276e+05</td>\n",
       "    </tr>\n",
       "    <tr>\n",
       "      <th>min</th>\n",
       "      <td>1001.000000</td>\n",
       "      <td>7.900000e+01</td>\n",
       "      <td>8.000000e+00</td>\n",
       "      <td>67.000000</td>\n",
       "      <td>0.000000</td>\n",
       "      <td>6.400000e+01</td>\n",
       "      <td>5.000000e+00</td>\n",
       "      <td>54.000000</td>\n",
       "      <td>0.000000</td>\n",
       "      <td>6.400000e+01</td>\n",
       "      <td>...</td>\n",
       "      <td>2.493050e+05</td>\n",
       "      <td>3.351000e+03</td>\n",
       "      <td>6.621500e+04</td>\n",
       "      <td>3.331000e+03</td>\n",
       "      <td>5.710790e+05</td>\n",
       "      <td>3.243000e+03</td>\n",
       "      <td>8.890600e+04</td>\n",
       "      <td>3.425000e+03</td>\n",
       "      <td>1.515510e+05</td>\n",
       "      <td>4.053000e+03</td>\n",
       "    </tr>\n",
       "    <tr>\n",
       "      <th>25%</th>\n",
       "      <td>19038.500000</td>\n",
       "      <td>4.973500e+03</td>\n",
       "      <td>1.806250e+03</td>\n",
       "      <td>2881.250000</td>\n",
       "      <td>70.000000</td>\n",
       "      <td>4.765750e+03</td>\n",
       "      <td>1.555000e+03</td>\n",
       "      <td>2889.750000</td>\n",
       "      <td>70.000000</td>\n",
       "      <td>4.815000e+03</td>\n",
       "      <td>...</td>\n",
       "      <td>1.262675e+08</td>\n",
       "      <td>5.656100e+04</td>\n",
       "      <td>1.293064e+08</td>\n",
       "      <td>5.674000e+04</td>\n",
       "      <td>1.405780e+08</td>\n",
       "      <td>5.674200e+04</td>\n",
       "      <td>1.533585e+08</td>\n",
       "      <td>5.697100e+04</td>\n",
       "      <td>1.354469e+08</td>\n",
       "      <td>5.756500e+04</td>\n",
       "    </tr>\n",
       "    <tr>\n",
       "      <th>50%</th>\n",
       "      <td>29208.000000</td>\n",
       "      <td>1.104050e+04</td>\n",
       "      <td>4.499000e+03</td>\n",
       "      <td>6312.000000</td>\n",
       "      <td>169.000000</td>\n",
       "      <td>1.073250e+04</td>\n",
       "      <td>3.948500e+03</td>\n",
       "      <td>6393.500000</td>\n",
       "      <td>168.000000</td>\n",
       "      <td>1.092950e+04</td>\n",
       "      <td>...</td>\n",
       "      <td>6.752224e+08</td>\n",
       "      <td>1.661010e+05</td>\n",
       "      <td>6.275383e+08</td>\n",
       "      <td>1.674760e+05</td>\n",
       "      <td>6.853059e+08</td>\n",
       "      <td>1.677000e+05</td>\n",
       "      <td>7.123738e+08</td>\n",
       "      <td>1.681680e+05</td>\n",
       "      <td>7.081640e+08</td>\n",
       "      <td>1.681830e+05</td>\n",
       "    </tr>\n",
       "    <tr>\n",
       "      <th>75%</th>\n",
       "      <td>46005.500000</td>\n",
       "      <td>2.906525e+04</td>\n",
       "      <td>1.238600e+04</td>\n",
       "      <td>16036.000000</td>\n",
       "      <td>441.000000</td>\n",
       "      <td>2.762825e+04</td>\n",
       "      <td>1.110025e+04</td>\n",
       "      <td>15948.750000</td>\n",
       "      <td>462.250000</td>\n",
       "      <td>2.866450e+04</td>\n",
       "      <td>...</td>\n",
       "      <td>3.558924e+09</td>\n",
       "      <td>5.513410e+05</td>\n",
       "      <td>3.141356e+09</td>\n",
       "      <td>5.558970e+05</td>\n",
       "      <td>3.063419e+09</td>\n",
       "      <td>5.621760e+05</td>\n",
       "      <td>2.960776e+09</td>\n",
       "      <td>5.638370e+05</td>\n",
       "      <td>3.390163e+09</td>\n",
       "      <td>5.683460e+05</td>\n",
       "    </tr>\n",
       "    <tr>\n",
       "      <th>max</th>\n",
       "      <td>56045.000000</td>\n",
       "      <td>3.318248e+06</td>\n",
       "      <td>2.295853e+06</td>\n",
       "      <td>956425.000000</td>\n",
       "      <td>65970.000000</td>\n",
       "      <td>2.427869e+06</td>\n",
       "      <td>1.672164e+06</td>\n",
       "      <td>699600.000000</td>\n",
       "      <td>56105.000000</td>\n",
       "      <td>2.314275e+06</td>\n",
       "      <td>...</td>\n",
       "      <td>5.101228e+10</td>\n",
       "      <td>9.953555e+06</td>\n",
       "      <td>9.619538e+10</td>\n",
       "      <td>1.001544e+07</td>\n",
       "      <td>9.995487e+10</td>\n",
       "      <td>1.006662e+07</td>\n",
       "      <td>8.016155e+10</td>\n",
       "      <td>1.011226e+07</td>\n",
       "      <td>6.824714e+10</td>\n",
       "      <td>1.013792e+07</td>\n",
       "    </tr>\n",
       "  </tbody>\n",
       "</table>\n",
       "<p>8 rows × 31 columns</p>\n",
       "</div>"
      ],
      "text/plain": [
       "          fips_code    total_2008      dem_2008       gop_2008      oth_2008  \\\n",
       "count   3112.000000  3.112000e+03  3.112000e+03    3112.000000   3112.000000   \n",
       "mean   30651.700514  4.215395e+04  2.231125e+04   19207.531491    587.632391   \n",
       "std    14984.654885  1.199957e+05  7.715532e+04   44866.795361   1846.444842   \n",
       "min     1001.000000  7.900000e+01  8.000000e+00      67.000000      0.000000   \n",
       "25%    19038.500000  4.973500e+03  1.806250e+03    2881.250000     70.000000   \n",
       "50%    29208.000000  1.104050e+04  4.499000e+03    6312.000000    169.000000   \n",
       "75%    46005.500000  2.906525e+04  1.238600e+04   16036.000000    441.000000   \n",
       "max    56045.000000  3.318248e+06  2.295853e+06  956425.000000  65970.000000   \n",
       "\n",
       "         total_2012      dem_2012       gop_2012      oth_2012    total_2016  \\\n",
       "count  3.112000e+03  3.112000e+03    3112.000000   3112.000000  3.112000e+03   \n",
       "mean   3.950556e+04  1.999004e+04   18890.392352    625.129820  4.089631e+04   \n",
       "std    1.056297e+05  6.599190e+04   41731.449644   1839.801275  1.082522e+05   \n",
       "min    6.400000e+01  5.000000e+00      54.000000      0.000000  6.400000e+01   \n",
       "25%    4.765750e+03  1.555000e+03    2889.750000     70.000000  4.815000e+03   \n",
       "50%    1.073250e+04  3.948500e+03    6393.500000    168.000000  1.092950e+04   \n",
       "75%    2.762825e+04  1.110025e+04   15948.750000    462.250000  2.866450e+04   \n",
       "max    2.427869e+06  1.672164e+06  699600.000000  56105.000000  2.314275e+06   \n",
       "\n",
       "           ...       exports_2012      pop_2012  exports_2013      pop_2013  \\\n",
       "count      ...       2.780000e+02  3.330000e+02  2.850000e+02  3.330000e+02   \n",
       "mean       ...       3.118923e+09  4.563967e+05  3.340438e+09  4.606559e+05   \n",
       "std        ...       6.584405e+09  8.350497e+05  8.606189e+09  8.424383e+05   \n",
       "min        ...       2.493050e+05  3.351000e+03  6.621500e+04  3.331000e+03   \n",
       "25%        ...       1.262675e+08  5.656100e+04  1.293064e+08  5.674000e+04   \n",
       "50%        ...       6.752224e+08  1.661010e+05  6.275383e+08  1.674760e+05   \n",
       "75%        ...       3.558924e+09  5.513410e+05  3.141356e+09  5.558970e+05   \n",
       "max        ...       5.101228e+10  9.953555e+06  9.619538e+10  1.001544e+07   \n",
       "\n",
       "       exports_2014      pop_2014  exports_2015      pop_2015  exports_2016  \\\n",
       "count  2.790000e+02  3.330000e+02  2.710000e+02  3.330000e+02  2.760000e+02   \n",
       "mean   3.364063e+09  4.650508e+05  3.172293e+09  4.692372e+05  3.070583e+09   \n",
       "std    8.618321e+09  8.494471e+05  7.422868e+09  8.559415e+05  6.780422e+09   \n",
       "min    5.710790e+05  3.243000e+03  8.890600e+04  3.425000e+03  1.515510e+05   \n",
       "25%    1.405780e+08  5.674200e+04  1.533585e+08  5.697100e+04  1.354469e+08   \n",
       "50%    6.853059e+08  1.677000e+05  7.123738e+08  1.681680e+05  7.081640e+08   \n",
       "75%    3.063419e+09  5.621760e+05  2.960776e+09  5.638370e+05  3.390163e+09   \n",
       "max    9.995487e+10  1.006662e+07  8.016155e+10  1.011226e+07  6.824714e+10   \n",
       "\n",
       "           pop_2016  \n",
       "count  3.330000e+02  \n",
       "mean   4.730744e+05  \n",
       "std    8.608276e+05  \n",
       "min    4.053000e+03  \n",
       "25%    5.756500e+04  \n",
       "50%    1.681830e+05  \n",
       "75%    5.683460e+05  \n",
       "max    1.013792e+07  \n",
       "\n",
       "[8 rows x 31 columns]"
      ]
     },
     "execution_count": 69,
     "metadata": {},
     "output_type": "execute_result"
    }
   ],
   "source": [
    "Describe_Data(election_data)"
   ]
  },
  {
   "cell_type": "markdown",
   "metadata": {},
   "source": [
    "With the data cleaned, I can now go through the process of determining outliers and perform similar analyis as done in the previous two examples to see what I can do with these outliers when looking across all counties around the country. It seems reasonable to assume that more populous counties would see more totals in all voting categories. We can see from the scatter plot that there is a positive correlation with the size of the labor force in a county and voter turnout."
   ]
  },
  {
   "cell_type": "code",
   "execution_count": 78,
   "metadata": {},
   "outputs": [
    {
     "data": {
      "text/plain": [
       "<seaborn.axisgrid.FacetGrid at 0x1a1f677dd8>"
      ]
     },
     "execution_count": 78,
     "metadata": {},
     "output_type": "execute_result"
    },
    {
     "data": {
      "image/png": "[encoded data removed]",
      "text/plain": [
       "<Figure size 360x360 with 1 Axes>"
      ]
     },
     "metadata": {},
     "output_type": "display_data"
    }
   ],
   "source": [
    "sns.lmplot(x=\"labor_force_16\", y=\"total_2016\", data=election_data)"
   ]
  },
  {
   "cell_type": "markdown",
   "metadata": {},
   "source": [
    "There are many more kinds of questions going forward that we can answer now that we have clean data."
   ]
  }
 ],
 "metadata": {
  "kernelspec": {
   "display_name": "Python 3",
   "language": "python",
   "name": "python3"
  },
  "language_info": {
   "codemirror_mode": {
    "name": "ipython",
    "version": 3
   },
   "file_extension": ".py",
   "mimetype": "text/x-python",
   "name": "python",
   "nbconvert_exporter": "python",
   "pygments_lexer": "ipython3",
   "version": "3.6.5"
  }
 },
 "nbformat": 4,
 "nbformat_minor": 2
}
